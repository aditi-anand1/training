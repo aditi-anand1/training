{
 "cells": [
  {
   "cell_type": "code",
   "execution_count": 1,
   "id": "c567152a",
   "metadata": {},
   "outputs": [],
   "source": [
    "#'MetaData\n",
    "#@Author : H2HBABBA2694_Aditi Anand\n",
    "#Time interval for the project: 21-06-2021 - 28-06-2021\n",
    "#AI-Enabled FinTech B2B Invoice Management Application\n",
    "#Version\n",
    "#Python 3.7.9\n",
    "#Pandas == 1.0.5\n",
    "#Numpy  == 1.20.2\n",
    "#seaborn == 0.10.0\n",
    "#sklearn == 0.22.1"
   ]
  },
  {
   "cell_type": "markdown",
   "id": "59a88963",
   "metadata": {},
   "source": [
    "# Importing all the libraries"
   ]
  },
  {
   "cell_type": "code",
   "execution_count": 2,
   "id": "b0129c55",
   "metadata": {},
   "outputs": [],
   "source": [
    "import numpy as np                        \n",
    "import matplotlib.pyplot as plt           \n",
    "import pandas as pd                       \n",
    "from sklearn.model_selection import train_test_split       \n",
    "import seaborn as sns                      \n",
    "from xgboost import XGBRegressor           \n",
    "from xgboost import plot_importance\n",
    "import datetime\n",
    "from sklearn.preprocessing import MinMaxScaler\n",
    "from sklearn.metrics import roc_auc_score\n",
    "import warnings\n",
    "warnings.filterwarnings(\"ignore\")\n",
    "\n"
   ]
  },
  {
   "cell_type": "markdown",
   "id": "86c2bec0",
   "metadata": {},
   "source": [
    "# Steps TODO\n",
    "\n",
    "1.Understanding the problem\n",
    "\n",
    "2.Data Reading\n",
    "\n",
    "3.Removing the datapoints where the target value is null\n",
    "\n",
    "4.Preprocess the data\n",
    "\n",
    "5.Train , validation and test split\n",
    "\n",
    "6.EDA\n",
    "\n",
    "7.Feature Engg\n",
    "\n",
    "8.Feture Selection\n",
    "\n",
    "9.Modelling\n",
    "\n",
    "10.HPT\n",
    "\n",
    "11.Accuracy"
   ]
  },
  {
   "cell_type": "code",
   "execution_count": 3,
   "id": "c4efab98",
   "metadata": {},
   "outputs": [
    {
     "data": {
      "text/html": [
       "<div>\n",
       "<style scoped>\n",
       "    .dataframe tbody tr th:only-of-type {\n",
       "        vertical-align: middle;\n",
       "    }\n",
       "\n",
       "    .dataframe tbody tr th {\n",
       "        vertical-align: top;\n",
       "    }\n",
       "\n",
       "    .dataframe thead th {\n",
       "        text-align: right;\n",
       "    }\n",
       "</style>\n",
       "<table border=\"1\" class=\"dataframe\">\n",
       "  <thead>\n",
       "    <tr style=\"text-align: right;\">\n",
       "      <th></th>\n",
       "      <th>business_code</th>\n",
       "      <th>cust_number</th>\n",
       "      <th>name_customer</th>\n",
       "      <th>clear_date</th>\n",
       "      <th>buisness_year</th>\n",
       "      <th>doc_id</th>\n",
       "      <th>posting_date</th>\n",
       "      <th>document_create_date</th>\n",
       "      <th>document_create_date.1</th>\n",
       "      <th>due_in_date</th>\n",
       "      <th>invoice_currency</th>\n",
       "      <th>document type</th>\n",
       "      <th>posting_id</th>\n",
       "      <th>area_business</th>\n",
       "      <th>total_open_amount</th>\n",
       "      <th>baseline_create_date</th>\n",
       "      <th>cust_payment_terms</th>\n",
       "      <th>invoice_id</th>\n",
       "      <th>isOpen</th>\n",
       "    </tr>\n",
       "  </thead>\n",
       "  <tbody>\n",
       "    <tr>\n",
       "      <th>0</th>\n",
       "      <td>U001</td>\n",
       "      <td>200803720</td>\n",
       "      <td>DEC llc</td>\n",
       "      <td>NaN</td>\n",
       "      <td>2020</td>\n",
       "      <td>1930819437</td>\n",
       "      <td>4/23/2020</td>\n",
       "      <td>20200423</td>\n",
       "      <td>20200423</td>\n",
       "      <td>20200423</td>\n",
       "      <td>USD</td>\n",
       "      <td>RV</td>\n",
       "      <td>1</td>\n",
       "      <td>NaN</td>\n",
       "      <td>9755.78</td>\n",
       "      <td>20200416</td>\n",
       "      <td>NAM1</td>\n",
       "      <td>1.930819e+09</td>\n",
       "      <td>1</td>\n",
       "    </tr>\n",
       "    <tr>\n",
       "      <th>1</th>\n",
       "      <td>U001</td>\n",
       "      <td>200769623</td>\n",
       "      <td>WAL-MAR</td>\n",
       "      <td>6/12/2019 0:00</td>\n",
       "      <td>2019</td>\n",
       "      <td>1929411721</td>\n",
       "      <td>6/1/2019</td>\n",
       "      <td>20190531</td>\n",
       "      <td>20190601</td>\n",
       "      <td>20190616</td>\n",
       "      <td>USD</td>\n",
       "      <td>RV</td>\n",
       "      <td>1</td>\n",
       "      <td>NaN</td>\n",
       "      <td>3689.22</td>\n",
       "      <td>20190601</td>\n",
       "      <td>NAH4</td>\n",
       "      <td>1.929412e+09</td>\n",
       "      <td>0</td>\n",
       "    </tr>\n",
       "    <tr>\n",
       "      <th>2</th>\n",
       "      <td>U001</td>\n",
       "      <td>200900909</td>\n",
       "      <td>SYSCO co</td>\n",
       "      <td>6/26/2019 0:00</td>\n",
       "      <td>2019</td>\n",
       "      <td>1929485411</td>\n",
       "      <td>6/12/2019</td>\n",
       "      <td>20190613</td>\n",
       "      <td>20190612</td>\n",
       "      <td>20190627</td>\n",
       "      <td>USD</td>\n",
       "      <td>RV</td>\n",
       "      <td>1</td>\n",
       "      <td>NaN</td>\n",
       "      <td>8351.59</td>\n",
       "      <td>20190612</td>\n",
       "      <td>NAA8</td>\n",
       "      <td>1.929485e+09</td>\n",
       "      <td>0</td>\n",
       "    </tr>\n",
       "    <tr>\n",
       "      <th>3</th>\n",
       "      <td>U001</td>\n",
       "      <td>200769623</td>\n",
       "      <td>WAL-MAR llc</td>\n",
       "      <td>6/25/2019 0:00</td>\n",
       "      <td>2019</td>\n",
       "      <td>1929491826</td>\n",
       "      <td>6/14/2019</td>\n",
       "      <td>20190614</td>\n",
       "      <td>20190614</td>\n",
       "      <td>20190629</td>\n",
       "      <td>USD</td>\n",
       "      <td>RV</td>\n",
       "      <td>1</td>\n",
       "      <td>NaN</td>\n",
       "      <td>8496.77</td>\n",
       "      <td>20190614</td>\n",
       "      <td>NAH4</td>\n",
       "      <td>1.929492e+09</td>\n",
       "      <td>0</td>\n",
       "    </tr>\n",
       "    <tr>\n",
       "      <th>4</th>\n",
       "      <td>U001</td>\n",
       "      <td>200769623</td>\n",
       "      <td>WAL-MAR trust</td>\n",
       "      <td>4/16/2019 0:00</td>\n",
       "      <td>2019</td>\n",
       "      <td>1929089883</td>\n",
       "      <td>4/6/2019</td>\n",
       "      <td>20190405</td>\n",
       "      <td>20190406</td>\n",
       "      <td>20190421</td>\n",
       "      <td>USD</td>\n",
       "      <td>RV</td>\n",
       "      <td>1</td>\n",
       "      <td>NaN</td>\n",
       "      <td>13175.19</td>\n",
       "      <td>20190406</td>\n",
       "      <td>NAH4</td>\n",
       "      <td>1.929090e+09</td>\n",
       "      <td>0</td>\n",
       "    </tr>\n",
       "    <tr>\n",
       "      <th>...</th>\n",
       "      <td>...</td>\n",
       "      <td>...</td>\n",
       "      <td>...</td>\n",
       "      <td>...</td>\n",
       "      <td>...</td>\n",
       "      <td>...</td>\n",
       "      <td>...</td>\n",
       "      <td>...</td>\n",
       "      <td>...</td>\n",
       "      <td>...</td>\n",
       "      <td>...</td>\n",
       "      <td>...</td>\n",
       "      <td>...</td>\n",
       "      <td>...</td>\n",
       "      <td>...</td>\n",
       "      <td>...</td>\n",
       "      <td>...</td>\n",
       "      <td>...</td>\n",
       "      <td>...</td>\n",
       "    </tr>\n",
       "    <tr>\n",
       "      <th>49995</th>\n",
       "      <td>U001</td>\n",
       "      <td>200769623</td>\n",
       "      <td>WAL-MAR us</td>\n",
       "      <td>4/1/2019 0:00</td>\n",
       "      <td>2019</td>\n",
       "      <td>1928990323</td>\n",
       "      <td>3/21/2019</td>\n",
       "      <td>20190319</td>\n",
       "      <td>20190321</td>\n",
       "      <td>20190405</td>\n",
       "      <td>USD</td>\n",
       "      <td>RV</td>\n",
       "      <td>1</td>\n",
       "      <td>NaN</td>\n",
       "      <td>76012.94</td>\n",
       "      <td>20190321</td>\n",
       "      <td>NAH4</td>\n",
       "      <td>1.928990e+09</td>\n",
       "      <td>0</td>\n",
       "    </tr>\n",
       "    <tr>\n",
       "      <th>49996</th>\n",
       "      <td>U001</td>\n",
       "      <td>200761734</td>\n",
       "      <td>H E BUT foundation</td>\n",
       "      <td>2/26/2019 0:00</td>\n",
       "      <td>2019</td>\n",
       "      <td>1928781023</td>\n",
       "      <td>2/12/2019</td>\n",
       "      <td>20190211</td>\n",
       "      <td>20190212</td>\n",
       "      <td>20190227</td>\n",
       "      <td>USD</td>\n",
       "      <td>RV</td>\n",
       "      <td>1</td>\n",
       "      <td>NaN</td>\n",
       "      <td>37767.72</td>\n",
       "      <td>20190212</td>\n",
       "      <td>NAA8</td>\n",
       "      <td>1.928781e+09</td>\n",
       "      <td>0</td>\n",
       "    </tr>\n",
       "    <tr>\n",
       "      <th>49997</th>\n",
       "      <td>U001</td>\n",
       "      <td>200726979</td>\n",
       "      <td>BJ'S  corporation</td>\n",
       "      <td>2/20/2020 0:00</td>\n",
       "      <td>2020</td>\n",
       "      <td>1930475592</td>\n",
       "      <td>2/5/2020</td>\n",
       "      <td>20200204</td>\n",
       "      <td>20200205</td>\n",
       "      <td>20200220</td>\n",
       "      <td>USD</td>\n",
       "      <td>RV</td>\n",
       "      <td>1</td>\n",
       "      <td>NaN</td>\n",
       "      <td>297.30</td>\n",
       "      <td>20200205</td>\n",
       "      <td>NAA8</td>\n",
       "      <td>1.930476e+09</td>\n",
       "      <td>0</td>\n",
       "    </tr>\n",
       "    <tr>\n",
       "      <th>49998</th>\n",
       "      <td>U001</td>\n",
       "      <td>200726979</td>\n",
       "      <td>BJ'S</td>\n",
       "      <td>11/21/2019 0:00</td>\n",
       "      <td>2019</td>\n",
       "      <td>1930129418</td>\n",
       "      <td>11/6/2019</td>\n",
       "      <td>20191108</td>\n",
       "      <td>20191106</td>\n",
       "      <td>20191121</td>\n",
       "      <td>USD</td>\n",
       "      <td>RV</td>\n",
       "      <td>1</td>\n",
       "      <td>NaN</td>\n",
       "      <td>81.79</td>\n",
       "      <td>20191106</td>\n",
       "      <td>NAA8</td>\n",
       "      <td>1.930129e+09</td>\n",
       "      <td>0</td>\n",
       "    </tr>\n",
       "    <tr>\n",
       "      <th>49999</th>\n",
       "      <td>U001</td>\n",
       "      <td>200148860</td>\n",
       "      <td>DOLLA in</td>\n",
       "      <td>NaN</td>\n",
       "      <td>2020</td>\n",
       "      <td>1930775097</td>\n",
       "      <td>4/12/2020</td>\n",
       "      <td>20200410</td>\n",
       "      <td>20200412</td>\n",
       "      <td>20200427</td>\n",
       "      <td>USD</td>\n",
       "      <td>RV</td>\n",
       "      <td>1</td>\n",
       "      <td>NaN</td>\n",
       "      <td>91560.26</td>\n",
       "      <td>20200412</td>\n",
       "      <td>NAA8</td>\n",
       "      <td>1.930775e+09</td>\n",
       "      <td>1</td>\n",
       "    </tr>\n",
       "  </tbody>\n",
       "</table>\n",
       "<p>50000 rows × 19 columns</p>\n",
       "</div>"
      ],
      "text/plain": [
       "      business_code cust_number       name_customer       clear_date  \\\n",
       "0              U001   200803720             DEC llc              NaN   \n",
       "1              U001   200769623            WAL-MAR    6/12/2019 0:00   \n",
       "2              U001   200900909            SYSCO co   6/26/2019 0:00   \n",
       "3              U001   200769623         WAL-MAR llc   6/25/2019 0:00   \n",
       "4              U001   200769623       WAL-MAR trust   4/16/2019 0:00   \n",
       "...             ...         ...                 ...              ...   \n",
       "49995          U001   200769623          WAL-MAR us    4/1/2019 0:00   \n",
       "49996          U001   200761734  H E BUT foundation   2/26/2019 0:00   \n",
       "49997          U001   200726979   BJ'S  corporation   2/20/2020 0:00   \n",
       "49998          U001   200726979              BJ'S    11/21/2019 0:00   \n",
       "49999          U001   200148860            DOLLA in              NaN   \n",
       "\n",
       "       buisness_year      doc_id posting_date  document_create_date  \\\n",
       "0               2020  1930819437    4/23/2020              20200423   \n",
       "1               2019  1929411721     6/1/2019              20190531   \n",
       "2               2019  1929485411    6/12/2019              20190613   \n",
       "3               2019  1929491826    6/14/2019              20190614   \n",
       "4               2019  1929089883     4/6/2019              20190405   \n",
       "...              ...         ...          ...                   ...   \n",
       "49995           2019  1928990323    3/21/2019              20190319   \n",
       "49996           2019  1928781023    2/12/2019              20190211   \n",
       "49997           2020  1930475592     2/5/2020              20200204   \n",
       "49998           2019  1930129418    11/6/2019              20191108   \n",
       "49999           2020  1930775097    4/12/2020              20200410   \n",
       "\n",
       "       document_create_date.1  due_in_date invoice_currency document type  \\\n",
       "0                    20200423     20200423              USD            RV   \n",
       "1                    20190601     20190616              USD            RV   \n",
       "2                    20190612     20190627              USD            RV   \n",
       "3                    20190614     20190629              USD            RV   \n",
       "4                    20190406     20190421              USD            RV   \n",
       "...                       ...          ...              ...           ...   \n",
       "49995                20190321     20190405              USD            RV   \n",
       "49996                20190212     20190227              USD            RV   \n",
       "49997                20200205     20200220              USD            RV   \n",
       "49998                20191106     20191121              USD            RV   \n",
       "49999                20200412     20200427              USD            RV   \n",
       "\n",
       "       posting_id  area_business  total_open_amount  baseline_create_date  \\\n",
       "0               1            NaN            9755.78              20200416   \n",
       "1               1            NaN            3689.22              20190601   \n",
       "2               1            NaN            8351.59              20190612   \n",
       "3               1            NaN            8496.77              20190614   \n",
       "4               1            NaN           13175.19              20190406   \n",
       "...           ...            ...                ...                   ...   \n",
       "49995           1            NaN           76012.94              20190321   \n",
       "49996           1            NaN           37767.72              20190212   \n",
       "49997           1            NaN             297.30              20200205   \n",
       "49998           1            NaN              81.79              20191106   \n",
       "49999           1            NaN           91560.26              20200412   \n",
       "\n",
       "      cust_payment_terms    invoice_id  isOpen  \n",
       "0                   NAM1  1.930819e+09       1  \n",
       "1                   NAH4  1.929412e+09       0  \n",
       "2                   NAA8  1.929485e+09       0  \n",
       "3                   NAH4  1.929492e+09       0  \n",
       "4                   NAH4  1.929090e+09       0  \n",
       "...                  ...           ...     ...  \n",
       "49995               NAH4  1.928990e+09       0  \n",
       "49996               NAA8  1.928781e+09       0  \n",
       "49997               NAA8  1.930476e+09       0  \n",
       "49998               NAA8  1.930129e+09       0  \n",
       "49999               NAA8  1.930775e+09       1  \n",
       "\n",
       "[50000 rows x 19 columns]"
      ]
     },
     "execution_count": 3,
     "metadata": {},
     "output_type": "execute_result"
    }
   ],
   "source": [
    "#importing the csv file\n",
    "#read_csv() # use to load or import csv file\n",
    "dataset=pd.read_csv(\"C:\\\\Users\\\\Aditi Anand\\\\Desktop\\H2HBABBA2694_data.csv\")\n",
    "dataset"
   ]
  },
  {
   "cell_type": "code",
   "execution_count": 4,
   "id": "b335cf1e",
   "metadata": {},
   "outputs": [
    {
     "data": {
      "text/plain": [
       "(50000, 19)"
      ]
     },
     "execution_count": 4,
     "metadata": {},
     "output_type": "execute_result"
    }
   ],
   "source": [
    "#counting the row and col using shape\n",
    "dataset.shape"
   ]
  },
  {
   "cell_type": "code",
   "execution_count": 5,
   "id": "0fb87ff5",
   "metadata": {},
   "outputs": [
    {
     "data": {
      "text/html": [
       "<div>\n",
       "<style scoped>\n",
       "    .dataframe tbody tr th:only-of-type {\n",
       "        vertical-align: middle;\n",
       "    }\n",
       "\n",
       "    .dataframe tbody tr th {\n",
       "        vertical-align: top;\n",
       "    }\n",
       "\n",
       "    .dataframe thead th {\n",
       "        text-align: right;\n",
       "    }\n",
       "</style>\n",
       "<table border=\"1\" class=\"dataframe\">\n",
       "  <thead>\n",
       "    <tr style=\"text-align: right;\">\n",
       "      <th></th>\n",
       "      <th>Counts</th>\n",
       "    </tr>\n",
       "  </thead>\n",
       "  <tbody>\n",
       "    <tr>\n",
       "      <th>business_code</th>\n",
       "      <td>6</td>\n",
       "    </tr>\n",
       "    <tr>\n",
       "      <th>cust_number</th>\n",
       "      <td>1094</td>\n",
       "    </tr>\n",
       "    <tr>\n",
       "      <th>name_customer</th>\n",
       "      <td>4227</td>\n",
       "    </tr>\n",
       "    <tr>\n",
       "      <th>clear_date</th>\n",
       "      <td>393</td>\n",
       "    </tr>\n",
       "    <tr>\n",
       "      <th>buisness_year</th>\n",
       "      <td>2</td>\n",
       "    </tr>\n",
       "    <tr>\n",
       "      <th>doc_id</th>\n",
       "      <td>48822</td>\n",
       "    </tr>\n",
       "    <tr>\n",
       "      <th>posting_date</th>\n",
       "      <td>502</td>\n",
       "    </tr>\n",
       "    <tr>\n",
       "      <th>document_create_date</th>\n",
       "      <td>505</td>\n",
       "    </tr>\n",
       "    <tr>\n",
       "      <th>document_create_date.1</th>\n",
       "      <td>503</td>\n",
       "    </tr>\n",
       "    <tr>\n",
       "      <th>due_in_date</th>\n",
       "      <td>546</td>\n",
       "    </tr>\n",
       "    <tr>\n",
       "      <th>invoice_currency</th>\n",
       "      <td>2</td>\n",
       "    </tr>\n",
       "    <tr>\n",
       "      <th>document type</th>\n",
       "      <td>2</td>\n",
       "    </tr>\n",
       "    <tr>\n",
       "      <th>posting_id</th>\n",
       "      <td>1</td>\n",
       "    </tr>\n",
       "    <tr>\n",
       "      <th>area_business</th>\n",
       "      <td>0</td>\n",
       "    </tr>\n",
       "    <tr>\n",
       "      <th>total_open_amount</th>\n",
       "      <td>44276</td>\n",
       "    </tr>\n",
       "    <tr>\n",
       "      <th>baseline_create_date</th>\n",
       "      <td>504</td>\n",
       "    </tr>\n",
       "    <tr>\n",
       "      <th>cust_payment_terms</th>\n",
       "      <td>75</td>\n",
       "    </tr>\n",
       "    <tr>\n",
       "      <th>invoice_id</th>\n",
       "      <td>48813</td>\n",
       "    </tr>\n",
       "    <tr>\n",
       "      <th>isOpen</th>\n",
       "      <td>2</td>\n",
       "    </tr>\n",
       "  </tbody>\n",
       "</table>\n",
       "</div>"
      ],
      "text/plain": [
       "                        Counts\n",
       "business_code                6\n",
       "cust_number               1094\n",
       "name_customer             4227\n",
       "clear_date                 393\n",
       "buisness_year                2\n",
       "doc_id                   48822\n",
       "posting_date               502\n",
       "document_create_date       505\n",
       "document_create_date.1     503\n",
       "due_in_date                546\n",
       "invoice_currency             2\n",
       "document type                2\n",
       "posting_id                   1\n",
       "area_business                0\n",
       "total_open_amount        44276\n",
       "baseline_create_date       504\n",
       "cust_payment_terms          75\n",
       "invoice_id               48813\n",
       "isOpen                       2"
      ]
     },
     "execution_count": 5,
     "metadata": {},
     "output_type": "execute_result"
    }
   ],
   "source": [
    "#to count the number of distict values in each columns\n",
    "coun_t  = dataset.nunique().to_frame(name = 'Counts')\n",
    "coun_t"
   ]
  },
  {
   "cell_type": "markdown",
   "id": "6ab79426",
   "metadata": {},
   "source": [
    "\n",
    "# Removing the datapoints where the clear_date is null"
   ]
  },
  {
   "cell_type": "code",
   "execution_count": 6,
   "id": "5d1349bd",
   "metadata": {},
   "outputs": [],
   "source": [
    "my_dataset = dataset[dataset.clear_date.isnull()==False]\n",
    "test_dataset = dataset[dataset.clear_date.isnull()]"
   ]
  },
  {
   "cell_type": "code",
   "execution_count": 7,
   "id": "4013040c",
   "metadata": {},
   "outputs": [
    {
     "data": {
      "text/plain": [
       "((40000, 19), (10000, 19))"
      ]
     },
     "execution_count": 7,
     "metadata": {},
     "output_type": "execute_result"
    }
   ],
   "source": [
    "my_dataset.shape , test_dataset.shape"
   ]
  },
  {
   "cell_type": "markdown",
   "id": "99f30f51",
   "metadata": {},
   "source": [
    "# Preprocessing\n"
   ]
  },
  {
   "cell_type": "markdown",
   "id": "537aa402",
   "metadata": {},
   "source": [
    "### Null Imputation"
   ]
  },
  {
   "cell_type": "code",
   "execution_count": 8,
   "id": "dd33df70",
   "metadata": {},
   "outputs": [
    {
     "data": {
      "text/plain": [
       "business_code                 0\n",
       "cust_number                   0\n",
       "name_customer                 0\n",
       "clear_date                    0\n",
       "buisness_year                 0\n",
       "doc_id                        0\n",
       "posting_date                  0\n",
       "document_create_date          0\n",
       "document_create_date.1        0\n",
       "due_in_date                   0\n",
       "invoice_currency              0\n",
       "document type                 0\n",
       "posting_id                    0\n",
       "area_business             40000\n",
       "total_open_amount             0\n",
       "baseline_create_date          0\n",
       "cust_payment_terms            0\n",
       "invoice_id                    9\n",
       "isOpen                        0\n",
       "dtype: int64"
      ]
     },
     "execution_count": 8,
     "metadata": {},
     "output_type": "execute_result"
    }
   ],
   "source": [
    "#checking the count of null values in each columns\n",
    "my_dataset.isna().sum()"
   ]
  },
  {
   "cell_type": "code",
   "execution_count": 9,
   "id": "406ceaf8",
   "metadata": {},
   "outputs": [],
   "source": [
    "#dropping the area business values as all the values are NULL\n",
    "my_dataset=my_dataset.drop([\"area_business\"],axis=1)"
   ]
  },
  {
   "cell_type": "code",
   "execution_count": 10,
   "id": "7ffa4337",
   "metadata": {},
   "outputs": [
    {
     "data": {
      "text/plain": [
       "business_code             0\n",
       "cust_number               0\n",
       "name_customer             0\n",
       "clear_date                0\n",
       "buisness_year             0\n",
       "doc_id                    0\n",
       "posting_date              0\n",
       "document_create_date      0\n",
       "document_create_date.1    0\n",
       "due_in_date               0\n",
       "invoice_currency          0\n",
       "document type             0\n",
       "posting_id                0\n",
       "total_open_amount         0\n",
       "baseline_create_date      0\n",
       "cust_payment_terms        0\n",
       "invoice_id                9\n",
       "isOpen                    0\n",
       "dtype: int64"
      ]
     },
     "execution_count": 10,
     "metadata": {},
     "output_type": "execute_result"
    }
   ],
   "source": [
    "my_dataset.isna().sum()"
   ]
  },
  {
   "cell_type": "code",
   "execution_count": 11,
   "id": "d6777fb0",
   "metadata": {},
   "outputs": [
    {
     "data": {
      "text/html": [
       "<div>\n",
       "<style scoped>\n",
       "    .dataframe tbody tr th:only-of-type {\n",
       "        vertical-align: middle;\n",
       "    }\n",
       "\n",
       "    .dataframe tbody tr th {\n",
       "        vertical-align: top;\n",
       "    }\n",
       "\n",
       "    .dataframe thead th {\n",
       "        text-align: right;\n",
       "    }\n",
       "</style>\n",
       "<table border=\"1\" class=\"dataframe\">\n",
       "  <thead>\n",
       "    <tr style=\"text-align: right;\">\n",
       "      <th></th>\n",
       "      <th>business_code</th>\n",
       "      <th>cust_number</th>\n",
       "      <th>name_customer</th>\n",
       "      <th>clear_date</th>\n",
       "      <th>buisness_year</th>\n",
       "      <th>doc_id</th>\n",
       "      <th>posting_date</th>\n",
       "      <th>document_create_date</th>\n",
       "      <th>document_create_date.1</th>\n",
       "      <th>due_in_date</th>\n",
       "      <th>invoice_currency</th>\n",
       "      <th>document type</th>\n",
       "      <th>posting_id</th>\n",
       "      <th>total_open_amount</th>\n",
       "      <th>baseline_create_date</th>\n",
       "      <th>cust_payment_terms</th>\n",
       "      <th>invoice_id</th>\n",
       "      <th>isOpen</th>\n",
       "    </tr>\n",
       "  </thead>\n",
       "  <tbody>\n",
       "    <tr>\n",
       "      <th>11791</th>\n",
       "      <td>CA02</td>\n",
       "      <td>140104409</td>\n",
       "      <td>LOB in</td>\n",
       "      <td>12/27/2019 0:00</td>\n",
       "      <td>2019</td>\n",
       "      <td>9500000200</td>\n",
       "      <td>4/30/2019</td>\n",
       "      <td>20190430</td>\n",
       "      <td>20190408</td>\n",
       "      <td>20190418</td>\n",
       "      <td>CAD</td>\n",
       "      <td>X2</td>\n",
       "      <td>1</td>\n",
       "      <td>454.44</td>\n",
       "      <td>20190408</td>\n",
       "      <td>CA10</td>\n",
       "      <td>NaN</td>\n",
       "      <td>0</td>\n",
       "    </tr>\n",
       "    <tr>\n",
       "      <th>14451</th>\n",
       "      <td>CA02</td>\n",
       "      <td>140104409</td>\n",
       "      <td>LOB co</td>\n",
       "      <td>5/31/2019 0:00</td>\n",
       "      <td>2019</td>\n",
       "      <td>9500000049</td>\n",
       "      <td>3/29/2019</td>\n",
       "      <td>20190329</td>\n",
       "      <td>20181024</td>\n",
       "      <td>20181103</td>\n",
       "      <td>CAD</td>\n",
       "      <td>X2</td>\n",
       "      <td>1</td>\n",
       "      <td>878.40</td>\n",
       "      <td>20181024</td>\n",
       "      <td>CA10</td>\n",
       "      <td>NaN</td>\n",
       "      <td>0</td>\n",
       "    </tr>\n",
       "    <tr>\n",
       "      <th>18817</th>\n",
       "      <td>CA02</td>\n",
       "      <td>140106054</td>\n",
       "      <td>TREE  in</td>\n",
       "      <td>5/6/2019 0:00</td>\n",
       "      <td>2019</td>\n",
       "      <td>9500000129</td>\n",
       "      <td>3/29/2019</td>\n",
       "      <td>20190329</td>\n",
       "      <td>20190128</td>\n",
       "      <td>20190207</td>\n",
       "      <td>CAD</td>\n",
       "      <td>X2</td>\n",
       "      <td>1</td>\n",
       "      <td>12636.00</td>\n",
       "      <td>20190128</td>\n",
       "      <td>CA10</td>\n",
       "      <td>NaN</td>\n",
       "      <td>0</td>\n",
       "    </tr>\n",
       "    <tr>\n",
       "      <th>34997</th>\n",
       "      <td>CA02</td>\n",
       "      <td>140104409</td>\n",
       "      <td>LOB associates</td>\n",
       "      <td>4/17/2019 0:00</td>\n",
       "      <td>2019</td>\n",
       "      <td>9500000077</td>\n",
       "      <td>3/29/2019</td>\n",
       "      <td>20190329</td>\n",
       "      <td>20190314</td>\n",
       "      <td>20190324</td>\n",
       "      <td>CAD</td>\n",
       "      <td>X2</td>\n",
       "      <td>1</td>\n",
       "      <td>698.60</td>\n",
       "      <td>20190314</td>\n",
       "      <td>CA10</td>\n",
       "      <td>NaN</td>\n",
       "      <td>0</td>\n",
       "    </tr>\n",
       "    <tr>\n",
       "      <th>38018</th>\n",
       "      <td>CA02</td>\n",
       "      <td>100030194</td>\n",
       "      <td>AMAZO us</td>\n",
       "      <td>5/23/2019 0:00</td>\n",
       "      <td>2019</td>\n",
       "      <td>9500000007</td>\n",
       "      <td>3/29/2019</td>\n",
       "      <td>20190329</td>\n",
       "      <td>20190311</td>\n",
       "      <td>20190321</td>\n",
       "      <td>CAD</td>\n",
       "      <td>X2</td>\n",
       "      <td>1</td>\n",
       "      <td>846.70</td>\n",
       "      <td>20190311</td>\n",
       "      <td>CA10</td>\n",
       "      <td>NaN</td>\n",
       "      <td>0</td>\n",
       "    </tr>\n",
       "    <tr>\n",
       "      <th>38732</th>\n",
       "      <td>CA02</td>\n",
       "      <td>140104409</td>\n",
       "      <td>LOB associates</td>\n",
       "      <td>5/31/2019 0:00</td>\n",
       "      <td>2019</td>\n",
       "      <td>9500000051</td>\n",
       "      <td>3/29/2019</td>\n",
       "      <td>20190329</td>\n",
       "      <td>20190131</td>\n",
       "      <td>20190210</td>\n",
       "      <td>CAD</td>\n",
       "      <td>X2</td>\n",
       "      <td>1</td>\n",
       "      <td>20472.48</td>\n",
       "      <td>20190131</td>\n",
       "      <td>CA10</td>\n",
       "      <td>NaN</td>\n",
       "      <td>0</td>\n",
       "    </tr>\n",
       "    <tr>\n",
       "      <th>46134</th>\n",
       "      <td>CA02</td>\n",
       "      <td>140104409</td>\n",
       "      <td>LOB trust</td>\n",
       "      <td>5/31/2019 0:00</td>\n",
       "      <td>2019</td>\n",
       "      <td>9500000057</td>\n",
       "      <td>3/29/2019</td>\n",
       "      <td>20190329</td>\n",
       "      <td>20190307</td>\n",
       "      <td>20190317</td>\n",
       "      <td>CAD</td>\n",
       "      <td>X2</td>\n",
       "      <td>1</td>\n",
       "      <td>17264.88</td>\n",
       "      <td>20190307</td>\n",
       "      <td>CA10</td>\n",
       "      <td>NaN</td>\n",
       "      <td>0</td>\n",
       "    </tr>\n",
       "    <tr>\n",
       "      <th>47478</th>\n",
       "      <td>CA02</td>\n",
       "      <td>140104409</td>\n",
       "      <td>LOB co</td>\n",
       "      <td>12/27/2019 0:00</td>\n",
       "      <td>2019</td>\n",
       "      <td>9500000073</td>\n",
       "      <td>3/29/2019</td>\n",
       "      <td>20190329</td>\n",
       "      <td>20190228</td>\n",
       "      <td>20190310</td>\n",
       "      <td>CAD</td>\n",
       "      <td>X2</td>\n",
       "      <td>1</td>\n",
       "      <td>173.44</td>\n",
       "      <td>20190228</td>\n",
       "      <td>CA10</td>\n",
       "      <td>NaN</td>\n",
       "      <td>0</td>\n",
       "    </tr>\n",
       "    <tr>\n",
       "      <th>49612</th>\n",
       "      <td>CA02</td>\n",
       "      <td>140106054</td>\n",
       "      <td>TREE  llc</td>\n",
       "      <td>5/6/2019 0:00</td>\n",
       "      <td>2019</td>\n",
       "      <td>9500000104</td>\n",
       "      <td>3/29/2019</td>\n",
       "      <td>20190329</td>\n",
       "      <td>20190208</td>\n",
       "      <td>20190218</td>\n",
       "      <td>CAD</td>\n",
       "      <td>X2</td>\n",
       "      <td>1</td>\n",
       "      <td>938.43</td>\n",
       "      <td>20190208</td>\n",
       "      <td>CA10</td>\n",
       "      <td>NaN</td>\n",
       "      <td>0</td>\n",
       "    </tr>\n",
       "  </tbody>\n",
       "</table>\n",
       "</div>"
      ],
      "text/plain": [
       "      business_code cust_number   name_customer       clear_date  \\\n",
       "11791          CA02   140104409          LOB in  12/27/2019 0:00   \n",
       "14451          CA02   140104409          LOB co   5/31/2019 0:00   \n",
       "18817          CA02   140106054        TREE  in    5/6/2019 0:00   \n",
       "34997          CA02   140104409  LOB associates   4/17/2019 0:00   \n",
       "38018          CA02   100030194        AMAZO us   5/23/2019 0:00   \n",
       "38732          CA02   140104409  LOB associates   5/31/2019 0:00   \n",
       "46134          CA02   140104409       LOB trust   5/31/2019 0:00   \n",
       "47478          CA02   140104409          LOB co  12/27/2019 0:00   \n",
       "49612          CA02   140106054       TREE  llc    5/6/2019 0:00   \n",
       "\n",
       "       buisness_year      doc_id posting_date  document_create_date  \\\n",
       "11791           2019  9500000200    4/30/2019              20190430   \n",
       "14451           2019  9500000049    3/29/2019              20190329   \n",
       "18817           2019  9500000129    3/29/2019              20190329   \n",
       "34997           2019  9500000077    3/29/2019              20190329   \n",
       "38018           2019  9500000007    3/29/2019              20190329   \n",
       "38732           2019  9500000051    3/29/2019              20190329   \n",
       "46134           2019  9500000057    3/29/2019              20190329   \n",
       "47478           2019  9500000073    3/29/2019              20190329   \n",
       "49612           2019  9500000104    3/29/2019              20190329   \n",
       "\n",
       "       document_create_date.1  due_in_date invoice_currency document type  \\\n",
       "11791                20190408     20190418              CAD            X2   \n",
       "14451                20181024     20181103              CAD            X2   \n",
       "18817                20190128     20190207              CAD            X2   \n",
       "34997                20190314     20190324              CAD            X2   \n",
       "38018                20190311     20190321              CAD            X2   \n",
       "38732                20190131     20190210              CAD            X2   \n",
       "46134                20190307     20190317              CAD            X2   \n",
       "47478                20190228     20190310              CAD            X2   \n",
       "49612                20190208     20190218              CAD            X2   \n",
       "\n",
       "       posting_id  total_open_amount  baseline_create_date cust_payment_terms  \\\n",
       "11791           1             454.44              20190408               CA10   \n",
       "14451           1             878.40              20181024               CA10   \n",
       "18817           1           12636.00              20190128               CA10   \n",
       "34997           1             698.60              20190314               CA10   \n",
       "38018           1             846.70              20190311               CA10   \n",
       "38732           1           20472.48              20190131               CA10   \n",
       "46134           1           17264.88              20190307               CA10   \n",
       "47478           1             173.44              20190228               CA10   \n",
       "49612           1             938.43              20190208               CA10   \n",
       "\n",
       "       invoice_id  isOpen  \n",
       "11791         NaN       0  \n",
       "14451         NaN       0  \n",
       "18817         NaN       0  \n",
       "34997         NaN       0  \n",
       "38018         NaN       0  \n",
       "38732         NaN       0  \n",
       "46134         NaN       0  \n",
       "47478         NaN       0  \n",
       "49612         NaN       0  "
      ]
     },
     "execution_count": 11,
     "metadata": {},
     "output_type": "execute_result"
    }
   ],
   "source": [
    "#checking the rows and columns where invoice_id is null\n",
    "my_dataset[my_dataset.invoice_id.isnull()]"
   ]
  },
  {
   "cell_type": "code",
   "execution_count": 12,
   "id": "230a3875",
   "metadata": {},
   "outputs": [
    {
     "data": {
      "text/plain": [
       "(39991, 18)"
      ]
     },
     "execution_count": 12,
     "metadata": {},
     "output_type": "execute_result"
    }
   ],
   "source": [
    "#dropping the rows where invoice_id is NULL as invoice_id has unique values so we cannot assing any random values to it so we have to drop it\n",
    "my_dataset = my_dataset[my_dataset['invoice_id'].notna()]\n",
    "my_dataset.shape"
   ]
  },
  {
   "cell_type": "code",
   "execution_count": 13,
   "id": "e4744bdf",
   "metadata": {},
   "outputs": [
    {
     "data": {
      "text/plain": [
       "business_code             0\n",
       "cust_number               0\n",
       "name_customer             0\n",
       "clear_date                0\n",
       "buisness_year             0\n",
       "doc_id                    0\n",
       "posting_date              0\n",
       "document_create_date      0\n",
       "document_create_date.1    0\n",
       "due_in_date               0\n",
       "invoice_currency          0\n",
       "document type             0\n",
       "posting_id                0\n",
       "total_open_amount         0\n",
       "baseline_create_date      0\n",
       "cust_payment_terms        0\n",
       "invoice_id                0\n",
       "isOpen                    0\n",
       "dtype: int64"
      ]
     },
     "execution_count": 13,
     "metadata": {},
     "output_type": "execute_result"
    }
   ],
   "source": [
    "my_dataset.isna().sum()"
   ]
  },
  {
   "cell_type": "markdown",
   "id": "ac704d21",
   "metadata": {},
   "source": [
    "### Constant / Duplicate removal"
   ]
  },
  {
   "cell_type": "code",
   "execution_count": 14,
   "id": "3b6f3dce",
   "metadata": {},
   "outputs": [
    {
     "data": {
      "text/plain": [
       "business_code                 6\n",
       "cust_number                1054\n",
       "name_customer              3924\n",
       "clear_date                  393\n",
       "buisness_year                 2\n",
       "doc_id                    39131\n",
       "posting_date                422\n",
       "document_create_date        427\n",
       "document_create_date.1      422\n",
       "due_in_date                 489\n",
       "invoice_currency              2\n",
       "document type                 1\n",
       "posting_id                    1\n",
       "total_open_amount         35686\n",
       "baseline_create_date        429\n",
       "cust_payment_terms           71\n",
       "invoice_id                39131\n",
       "isOpen                        1\n",
       "dtype: int64"
      ]
     },
     "execution_count": 14,
     "metadata": {},
     "output_type": "execute_result"
    }
   ],
   "source": [
    "#checking unique values in each rows\n",
    "my_dataset.nunique()"
   ]
  },
  {
   "cell_type": "code",
   "execution_count": 15,
   "id": "5d76480c",
   "metadata": {},
   "outputs": [],
   "source": [
    "#dropping posting_id as it has same values in all the rows that is it contains constant values\n",
    "my_dataset=my_dataset.drop([\"posting_id\"],axis=1)\n",
    "my_dataset=my_dataset.drop([\"isOpen\"],axis=1)\n",
    "#my_dataset=my_dataset.drop([\"document type\"],axis=1)"
   ]
  },
  {
   "cell_type": "code",
   "execution_count": 16,
   "id": "a307da68",
   "metadata": {},
   "outputs": [
    {
     "name": "stdout",
     "output_type": "stream",
     "text": [
      "<class 'pandas.core.frame.DataFrame'>\n",
      "Int64Index: 39991 entries, 1 to 49998\n",
      "Data columns (total 16 columns):\n",
      " #   Column                  Non-Null Count  Dtype  \n",
      "---  ------                  --------------  -----  \n",
      " 0   business_code           39991 non-null  object \n",
      " 1   cust_number             39991 non-null  object \n",
      " 2   name_customer           39991 non-null  object \n",
      " 3   clear_date              39991 non-null  object \n",
      " 4   buisness_year           39991 non-null  int64  \n",
      " 5   doc_id                  39991 non-null  int64  \n",
      " 6   posting_date            39991 non-null  object \n",
      " 7   document_create_date    39991 non-null  int64  \n",
      " 8   document_create_date.1  39991 non-null  int64  \n",
      " 9   due_in_date             39991 non-null  int64  \n",
      " 10  invoice_currency        39991 non-null  object \n",
      " 11  document type           39991 non-null  object \n",
      " 12  total_open_amount       39991 non-null  float64\n",
      " 13  baseline_create_date    39991 non-null  int64  \n",
      " 14  cust_payment_terms      39991 non-null  object \n",
      " 15  invoice_id              39991 non-null  float64\n",
      "dtypes: float64(2), int64(6), object(8)\n",
      "memory usage: 5.2+ MB\n"
     ]
    }
   ],
   "source": [
    "my_dataset.info()"
   ]
  },
  {
   "cell_type": "code",
   "execution_count": 17,
   "id": "9f30ef2d",
   "metadata": {},
   "outputs": [
    {
     "data": {
      "text/plain": [
       "39991"
      ]
     },
     "execution_count": 17,
     "metadata": {},
     "output_type": "execute_result"
    }
   ],
   "source": [
    "#counting the number of rows where doc_id and invoice_id are same \n",
    "(my_dataset['doc_id'] == my_dataset['invoice_id']).sum()"
   ]
  },
  {
   "cell_type": "code",
   "execution_count": 18,
   "id": "a6b22603",
   "metadata": {},
   "outputs": [],
   "source": [
    "#doc_id and invoice id are exactly same so dropping doc_id\n",
    "my_dataset=my_dataset.drop([\"doc_id\"],axis=1)"
   ]
  },
  {
   "cell_type": "code",
   "execution_count": 19,
   "id": "1af3edea",
   "metadata": {},
   "outputs": [],
   "source": [
    "#deleting column having unique rows as this cannont help are to find any pattern in prediciton as every row id different.\n",
    "my_dataset=my_dataset.drop([\"invoice_id\"],axis=1)"
   ]
  },
  {
   "cell_type": "code",
   "execution_count": 20,
   "id": "8164163b",
   "metadata": {},
   "outputs": [],
   "source": [
    "#deleting the insignificant columns\n",
    "my_dataset=my_dataset.drop([\"name_customer\"],axis=1)\n",
    "my_dataset=my_dataset.drop([\"document_create_date\"],axis=1)"
   ]
  },
  {
   "cell_type": "code",
   "execution_count": 21,
   "id": "831d9397",
   "metadata": {
    "scrolled": true
   },
   "outputs": [
    {
     "data": {
      "text/plain": [
       "(39991, 12)"
      ]
     },
     "execution_count": 21,
     "metadata": {},
     "output_type": "execute_result"
    }
   ],
   "source": [
    "my_dataset.shape\n"
   ]
  },
  {
   "cell_type": "code",
   "execution_count": 22,
   "id": "03c5075e",
   "metadata": {},
   "outputs": [
    {
     "data": {
      "text/html": [
       "<div>\n",
       "<style scoped>\n",
       "    .dataframe tbody tr th:only-of-type {\n",
       "        vertical-align: middle;\n",
       "    }\n",
       "\n",
       "    .dataframe tbody tr th {\n",
       "        vertical-align: top;\n",
       "    }\n",
       "\n",
       "    .dataframe thead th {\n",
       "        text-align: right;\n",
       "    }\n",
       "</style>\n",
       "<table border=\"1\" class=\"dataframe\">\n",
       "  <thead>\n",
       "    <tr style=\"text-align: right;\">\n",
       "      <th></th>\n",
       "      <th>business_code</th>\n",
       "      <th>cust_number</th>\n",
       "      <th>clear_date</th>\n",
       "      <th>buisness_year</th>\n",
       "      <th>posting_date</th>\n",
       "      <th>document_create_date.1</th>\n",
       "      <th>due_in_date</th>\n",
       "      <th>invoice_currency</th>\n",
       "      <th>document type</th>\n",
       "      <th>total_open_amount</th>\n",
       "      <th>baseline_create_date</th>\n",
       "      <th>cust_payment_terms</th>\n",
       "    </tr>\n",
       "  </thead>\n",
       "  <tbody>\n",
       "    <tr>\n",
       "      <th>1</th>\n",
       "      <td>U001</td>\n",
       "      <td>200769623</td>\n",
       "      <td>6/12/2019 0:00</td>\n",
       "      <td>2019</td>\n",
       "      <td>6/1/2019</td>\n",
       "      <td>20190601</td>\n",
       "      <td>20190616</td>\n",
       "      <td>USD</td>\n",
       "      <td>RV</td>\n",
       "      <td>3689.22</td>\n",
       "      <td>20190601</td>\n",
       "      <td>NAH4</td>\n",
       "    </tr>\n",
       "    <tr>\n",
       "      <th>2</th>\n",
       "      <td>U001</td>\n",
       "      <td>200900909</td>\n",
       "      <td>6/26/2019 0:00</td>\n",
       "      <td>2019</td>\n",
       "      <td>6/12/2019</td>\n",
       "      <td>20190612</td>\n",
       "      <td>20190627</td>\n",
       "      <td>USD</td>\n",
       "      <td>RV</td>\n",
       "      <td>8351.59</td>\n",
       "      <td>20190612</td>\n",
       "      <td>NAA8</td>\n",
       "    </tr>\n",
       "    <tr>\n",
       "      <th>3</th>\n",
       "      <td>U001</td>\n",
       "      <td>200769623</td>\n",
       "      <td>6/25/2019 0:00</td>\n",
       "      <td>2019</td>\n",
       "      <td>6/14/2019</td>\n",
       "      <td>20190614</td>\n",
       "      <td>20190629</td>\n",
       "      <td>USD</td>\n",
       "      <td>RV</td>\n",
       "      <td>8496.77</td>\n",
       "      <td>20190614</td>\n",
       "      <td>NAH4</td>\n",
       "    </tr>\n",
       "    <tr>\n",
       "      <th>4</th>\n",
       "      <td>U001</td>\n",
       "      <td>200769623</td>\n",
       "      <td>4/16/2019 0:00</td>\n",
       "      <td>2019</td>\n",
       "      <td>4/6/2019</td>\n",
       "      <td>20190406</td>\n",
       "      <td>20190421</td>\n",
       "      <td>USD</td>\n",
       "      <td>RV</td>\n",
       "      <td>13175.19</td>\n",
       "      <td>20190406</td>\n",
       "      <td>NAH4</td>\n",
       "    </tr>\n",
       "    <tr>\n",
       "      <th>5</th>\n",
       "      <td>U001</td>\n",
       "      <td>200769623</td>\n",
       "      <td>10/15/2019 0:00</td>\n",
       "      <td>2019</td>\n",
       "      <td>9/30/2019</td>\n",
       "      <td>20190930</td>\n",
       "      <td>20191015</td>\n",
       "      <td>USD</td>\n",
       "      <td>RV</td>\n",
       "      <td>454.06</td>\n",
       "      <td>20190930</td>\n",
       "      <td>NAH4</td>\n",
       "    </tr>\n",
       "  </tbody>\n",
       "</table>\n",
       "</div>"
      ],
      "text/plain": [
       "  business_code cust_number       clear_date  buisness_year posting_date  \\\n",
       "1          U001   200769623   6/12/2019 0:00           2019     6/1/2019   \n",
       "2          U001   200900909   6/26/2019 0:00           2019    6/12/2019   \n",
       "3          U001   200769623   6/25/2019 0:00           2019    6/14/2019   \n",
       "4          U001   200769623   4/16/2019 0:00           2019     4/6/2019   \n",
       "5          U001   200769623  10/15/2019 0:00           2019    9/30/2019   \n",
       "\n",
       "   document_create_date.1  due_in_date invoice_currency document type  \\\n",
       "1                20190601     20190616              USD            RV   \n",
       "2                20190612     20190627              USD            RV   \n",
       "3                20190614     20190629              USD            RV   \n",
       "4                20190406     20190421              USD            RV   \n",
       "5                20190930     20191015              USD            RV   \n",
       "\n",
       "   total_open_amount  baseline_create_date cust_payment_terms  \n",
       "1            3689.22              20190601               NAH4  \n",
       "2            8351.59              20190612               NAA8  \n",
       "3            8496.77              20190614               NAH4  \n",
       "4           13175.19              20190406               NAH4  \n",
       "5             454.06              20190930               NAH4  "
      ]
     },
     "execution_count": 22,
     "metadata": {},
     "output_type": "execute_result"
    }
   ],
   "source": [
    "my_dataset.head()"
   ]
  },
  {
   "cell_type": "code",
   "execution_count": 23,
   "id": "8c56572e",
   "metadata": {},
   "outputs": [
    {
     "name": "stdout",
     "output_type": "stream",
     "text": [
      "business_code              object\n",
      "cust_number                object\n",
      "clear_date                 object\n",
      "buisness_year               int64\n",
      "posting_date               object\n",
      "document_create_date.1      int64\n",
      "due_in_date                 int64\n",
      "invoice_currency           object\n",
      "document type              object\n",
      "total_open_amount         float64\n",
      "baseline_create_date        int64\n",
      "cust_payment_terms         object\n",
      "dtype: object\n"
     ]
    }
   ],
   "source": [
    "# printing the datatype of the columns\n",
    "print(my_dataset.dtypes)"
   ]
  },
  {
   "cell_type": "markdown",
   "id": "9aebcc58",
   "metadata": {},
   "source": [
    "### Date Time Conversion"
   ]
  },
  {
   "cell_type": "code",
   "execution_count": 24,
   "id": "c34d2c20",
   "metadata": {},
   "outputs": [
    {
     "data": {
      "text/plain": [
       "business_code                     object\n",
       "cust_number                       object\n",
       "clear_date                datetime64[ns]\n",
       "buisness_year                      int64\n",
       "posting_date              datetime64[ns]\n",
       "document_create_date.1    datetime64[ns]\n",
       "due_in_date               datetime64[ns]\n",
       "invoice_currency                  object\n",
       "document type                     object\n",
       "total_open_amount                float64\n",
       "baseline_create_date      datetime64[ns]\n",
       "cust_payment_terms                object\n",
       "dtype: object"
      ]
     },
     "execution_count": 24,
     "metadata": {},
     "output_type": "execute_result"
    }
   ],
   "source": [
    "# changing the datatype to datetime\n",
    "my_dataset['clear_date']=pd.to_datetime(my_dataset['clear_date'].astype(str))\n",
    "my_dataset['due_in_date']=pd.to_datetime(my_dataset['due_in_date'].astype(str))\n",
    "my_dataset['baseline_create_date']=pd.to_datetime(my_dataset['baseline_create_date'].astype(str))\n",
    "my_dataset['document_create_date.1']=pd.to_datetime(my_dataset['document_create_date.1'].astype(str))\n",
    "my_dataset['posting_date']=pd.to_datetime(my_dataset['posting_date'].astype(str))\n",
    "my_dataset.dtypes\n"
   ]
  },
  {
   "cell_type": "code",
   "execution_count": 25,
   "id": "1f50f31a",
   "metadata": {},
   "outputs": [
    {
     "data": {
      "text/plain": [
       "(37348, 12)"
      ]
     },
     "execution_count": 25,
     "metadata": {},
     "output_type": "execute_result"
    }
   ],
   "source": [
    "#dropping the rows where document for invoice is created before baseline carete date\n",
    "temp = pd.Series(my_dataset['document_create_date.1'] - my_dataset['baseline_create_date']).dt.days\n",
    "my_dataset = my_dataset[((temp==0) | (temp>0))].reset_index(drop=True)\n",
    "my_dataset.shape"
   ]
  },
  {
   "cell_type": "code",
   "execution_count": 26,
   "id": "ce4aa88b",
   "metadata": {},
   "outputs": [],
   "source": [
    "#due_terms is the number of days between the due_in_date and the baseline_create_date\n",
    "my_dataset['due_term']=pd.Series(my_dataset['due_in_date'] - my_dataset['baseline_create_date']).dt.days\n",
    "my_dataset['delay']=(my_dataset['clear_date']-my_dataset['due_in_date']).dt.days"
   ]
  },
  {
   "cell_type": "code",
   "execution_count": 27,
   "id": "cc712cc6",
   "metadata": {},
   "outputs": [],
   "source": [
    "#changing the CAD amount to USD amount \n",
    "my_dataset.loc[my_dataset.invoice_currency == 'CAD', 'total_open_amount'] = 0.81*my_dataset['total_open_amount']"
   ]
  },
  {
   "cell_type": "code",
   "execution_count": 28,
   "id": "d116fe43",
   "metadata": {},
   "outputs": [],
   "source": [
    "#dropping invoice currency column as we dont need it anymore as all amount is changed to USD currency\n",
    "my_dataset = my_dataset.drop(columns=['invoice_currency'])"
   ]
  },
  {
   "cell_type": "code",
   "execution_count": 29,
   "id": "1990114f",
   "metadata": {},
   "outputs": [
    {
     "data": {
      "text/plain": [
       "<AxesSubplot:xlabel='total_open_amount'>"
      ]
     },
     "execution_count": 29,
     "metadata": {},
     "output_type": "execute_result"
    },
    {
     "data": {
      "image/png": "[encoded data removed]",
      "text/plain": [
       "<Figure size 432x288 with 1 Axes>"
      ]
     },
     "metadata": {
      "needs_background": "light"
     },
     "output_type": "display_data"
    }
   ],
   "source": [
    "#checking for thr outliers in total_open_amount\n",
    "sns.boxplot(x=my_dataset['total_open_amount'])"
   ]
  },
  {
   "cell_type": "code",
   "execution_count": 30,
   "id": "3acb29d6",
   "metadata": {},
   "outputs": [
    {
     "name": "stdout",
     "output_type": "stream",
     "text": [
      "Q1:  4330.335\n",
      "Q3:  45396.25\n",
      "IQR:  41065.915\n",
      "lower_range -77801.495\n",
      "upper_range 127528.08\n",
      "no. of outliers ----> 937\n"
     ]
    }
   ],
   "source": [
    "#calculating the outliers from total_open_amount\n",
    "Q1 = my_dataset['total_open_amount'].quantile(0.25)\n",
    "Q3 = my_dataset['total_open_amount'].quantile(0.75)\n",
    "IQR = Q3-Q1\n",
    "lower_range =( Q1 -(2 * IQR)) # with 1.5 observed almost ~1500 outliers which is almost 4.8% of data,so changed to 3 where i got 221 outliers  and treated it\n",
    "upper_range = Q3 + (2* IQR)\n",
    "print(\"Q1: \",Q1)\n",
    "print(\"Q3: \",Q3)\n",
    "print(\"IQR: \",IQR)\n",
    "print(\"lower_range\",lower_range)\n",
    "print('upper_range',upper_range)\n",
    "print(\"no. of outliers ---->\",len(my_dataset[(my_dataset.total_open_amount < lower_range) | (my_dataset.total_open_amount > upper_range)]))#total no.of outliers"
   ]
  },
  {
   "cell_type": "code",
   "execution_count": 31,
   "id": "6aae15d9",
   "metadata": {},
   "outputs": [],
   "source": [
    "#dropping the rows with the outliers in total_open_amount\n",
    "my_dataset.drop(my_dataset[ (my_dataset.total_open_amount  > upper_range) | (my_dataset.total_open_amount  < lower_range) ].index , inplace=True)"
   ]
  },
  {
   "cell_type": "code",
   "execution_count": 32,
   "id": "2bfdd678",
   "metadata": {},
   "outputs": [],
   "source": [
    "#renaming document type to document_type \n",
    "my_dataset.rename(columns={\"document type\":\"document_type\"}, inplace=True)"
   ]
  },
  {
   "cell_type": "markdown",
   "id": "f6435c13",
   "metadata": {},
   "source": [
    "# Split Data"
   ]
  },
  {
   "cell_type": "code",
   "execution_count": 33,
   "id": "0e38503b",
   "metadata": {},
   "outputs": [
    {
     "data": {
      "text/html": [
       "<div>\n",
       "<style scoped>\n",
       "    .dataframe tbody tr th:only-of-type {\n",
       "        vertical-align: middle;\n",
       "    }\n",
       "\n",
       "    .dataframe tbody tr th {\n",
       "        vertical-align: top;\n",
       "    }\n",
       "\n",
       "    .dataframe thead th {\n",
       "        text-align: right;\n",
       "    }\n",
       "</style>\n",
       "<table border=\"1\" class=\"dataframe\">\n",
       "  <thead>\n",
       "    <tr style=\"text-align: right;\">\n",
       "      <th></th>\n",
       "      <th>business_code</th>\n",
       "      <th>cust_number</th>\n",
       "      <th>clear_date</th>\n",
       "      <th>buisness_year</th>\n",
       "      <th>posting_date</th>\n",
       "      <th>document_create_date.1</th>\n",
       "      <th>due_in_date</th>\n",
       "      <th>document_type</th>\n",
       "      <th>total_open_amount</th>\n",
       "      <th>baseline_create_date</th>\n",
       "      <th>cust_payment_terms</th>\n",
       "      <th>due_term</th>\n",
       "      <th>delay</th>\n",
       "    </tr>\n",
       "  </thead>\n",
       "  <tbody>\n",
       "    <tr>\n",
       "      <th>21733</th>\n",
       "      <td>U001</td>\n",
       "      <td>200769623</td>\n",
       "      <td>2019-01-09</td>\n",
       "      <td>2019</td>\n",
       "      <td>2018-12-30</td>\n",
       "      <td>2018-12-30</td>\n",
       "      <td>2019-01-14</td>\n",
       "      <td>RV</td>\n",
       "      <td>14475.85</td>\n",
       "      <td>2018-12-30</td>\n",
       "      <td>NAH4</td>\n",
       "      <td>15</td>\n",
       "      <td>-5</td>\n",
       "    </tr>\n",
       "    <tr>\n",
       "      <th>4584</th>\n",
       "      <td>U001</td>\n",
       "      <td>200706844</td>\n",
       "      <td>2019-01-15</td>\n",
       "      <td>2019</td>\n",
       "      <td>2018-12-30</td>\n",
       "      <td>2018-12-30</td>\n",
       "      <td>2019-01-14</td>\n",
       "      <td>RV</td>\n",
       "      <td>6902.58</td>\n",
       "      <td>2018-12-30</td>\n",
       "      <td>NAA8</td>\n",
       "      <td>15</td>\n",
       "      <td>1</td>\n",
       "    </tr>\n",
       "    <tr>\n",
       "      <th>12499</th>\n",
       "      <td>U001</td>\n",
       "      <td>100001196</td>\n",
       "      <td>2019-01-14</td>\n",
       "      <td>2019</td>\n",
       "      <td>2018-12-30</td>\n",
       "      <td>2018-12-30</td>\n",
       "      <td>2019-01-14</td>\n",
       "      <td>RV</td>\n",
       "      <td>23785.79</td>\n",
       "      <td>2018-12-30</td>\n",
       "      <td>NAA8</td>\n",
       "      <td>15</td>\n",
       "      <td>0</td>\n",
       "    </tr>\n",
       "    <tr>\n",
       "      <th>37263</th>\n",
       "      <td>U001</td>\n",
       "      <td>200769623</td>\n",
       "      <td>2019-01-09</td>\n",
       "      <td>2019</td>\n",
       "      <td>2018-12-30</td>\n",
       "      <td>2018-12-30</td>\n",
       "      <td>2019-01-14</td>\n",
       "      <td>RV</td>\n",
       "      <td>150.44</td>\n",
       "      <td>2018-12-30</td>\n",
       "      <td>NAH4</td>\n",
       "      <td>15</td>\n",
       "      <td>-5</td>\n",
       "    </tr>\n",
       "    <tr>\n",
       "      <th>15117</th>\n",
       "      <td>U001</td>\n",
       "      <td>200769623</td>\n",
       "      <td>2019-01-15</td>\n",
       "      <td>2019</td>\n",
       "      <td>2018-12-30</td>\n",
       "      <td>2018-12-30</td>\n",
       "      <td>2019-01-14</td>\n",
       "      <td>RV</td>\n",
       "      <td>23826.53</td>\n",
       "      <td>2018-12-30</td>\n",
       "      <td>NAH4</td>\n",
       "      <td>15</td>\n",
       "      <td>1</td>\n",
       "    </tr>\n",
       "    <tr>\n",
       "      <th>...</th>\n",
       "      <td>...</td>\n",
       "      <td>...</td>\n",
       "      <td>...</td>\n",
       "      <td>...</td>\n",
       "      <td>...</td>\n",
       "      <td>...</td>\n",
       "      <td>...</td>\n",
       "      <td>...</td>\n",
       "      <td>...</td>\n",
       "      <td>...</td>\n",
       "      <td>...</td>\n",
       "      <td>...</td>\n",
       "      <td>...</td>\n",
       "    </tr>\n",
       "    <tr>\n",
       "      <th>35899</th>\n",
       "      <td>U001</td>\n",
       "      <td>200760666</td>\n",
       "      <td>2020-03-09</td>\n",
       "      <td>2020</td>\n",
       "      <td>2020-02-26</td>\n",
       "      <td>2020-02-26</td>\n",
       "      <td>2020-05-01</td>\n",
       "      <td>RV</td>\n",
       "      <td>1025.86</td>\n",
       "      <td>2020-02-26</td>\n",
       "      <td>NAGD</td>\n",
       "      <td>65</td>\n",
       "      <td>-53</td>\n",
       "    </tr>\n",
       "    <tr>\n",
       "      <th>25848</th>\n",
       "      <td>U001</td>\n",
       "      <td>200759878</td>\n",
       "      <td>2020-03-13</td>\n",
       "      <td>2020</td>\n",
       "      <td>2020-02-27</td>\n",
       "      <td>2020-02-27</td>\n",
       "      <td>2020-03-13</td>\n",
       "      <td>RV</td>\n",
       "      <td>15005.29</td>\n",
       "      <td>2020-02-27</td>\n",
       "      <td>NAH4</td>\n",
       "      <td>15</td>\n",
       "      <td>0</td>\n",
       "    </tr>\n",
       "    <tr>\n",
       "      <th>5571</th>\n",
       "      <td>U001</td>\n",
       "      <td>200759878</td>\n",
       "      <td>2020-03-13</td>\n",
       "      <td>2020</td>\n",
       "      <td>2020-02-27</td>\n",
       "      <td>2020-02-27</td>\n",
       "      <td>2020-03-13</td>\n",
       "      <td>RV</td>\n",
       "      <td>65988.21</td>\n",
       "      <td>2020-02-27</td>\n",
       "      <td>NAH4</td>\n",
       "      <td>15</td>\n",
       "      <td>0</td>\n",
       "    </tr>\n",
       "    <tr>\n",
       "      <th>20398</th>\n",
       "      <td>U001</td>\n",
       "      <td>200759878</td>\n",
       "      <td>2020-03-13</td>\n",
       "      <td>2020</td>\n",
       "      <td>2020-02-27</td>\n",
       "      <td>2020-02-27</td>\n",
       "      <td>2020-03-13</td>\n",
       "      <td>RV</td>\n",
       "      <td>70504.55</td>\n",
       "      <td>2020-02-27</td>\n",
       "      <td>NAH4</td>\n",
       "      <td>15</td>\n",
       "      <td>0</td>\n",
       "    </tr>\n",
       "    <tr>\n",
       "      <th>30525</th>\n",
       "      <td>U001</td>\n",
       "      <td>100031704</td>\n",
       "      <td>2020-03-17</td>\n",
       "      <td>2020</td>\n",
       "      <td>2020-02-27</td>\n",
       "      <td>2020-02-27</td>\n",
       "      <td>2020-03-13</td>\n",
       "      <td>RV</td>\n",
       "      <td>101667.64</td>\n",
       "      <td>2020-02-27</td>\n",
       "      <td>NAA8</td>\n",
       "      <td>15</td>\n",
       "      <td>4</td>\n",
       "    </tr>\n",
       "  </tbody>\n",
       "</table>\n",
       "<p>36411 rows × 13 columns</p>\n",
       "</div>"
      ],
      "text/plain": [
       "      business_code cust_number clear_date  buisness_year posting_date  \\\n",
       "21733          U001   200769623 2019-01-09           2019   2018-12-30   \n",
       "4584           U001   200706844 2019-01-15           2019   2018-12-30   \n",
       "12499          U001   100001196 2019-01-14           2019   2018-12-30   \n",
       "37263          U001   200769623 2019-01-09           2019   2018-12-30   \n",
       "15117          U001   200769623 2019-01-15           2019   2018-12-30   \n",
       "...             ...         ...        ...            ...          ...   \n",
       "35899          U001   200760666 2020-03-09           2020   2020-02-26   \n",
       "25848          U001   200759878 2020-03-13           2020   2020-02-27   \n",
       "5571           U001   200759878 2020-03-13           2020   2020-02-27   \n",
       "20398          U001   200759878 2020-03-13           2020   2020-02-27   \n",
       "30525          U001   100031704 2020-03-17           2020   2020-02-27   \n",
       "\n",
       "      document_create_date.1 due_in_date document_type  total_open_amount  \\\n",
       "21733             2018-12-30  2019-01-14            RV           14475.85   \n",
       "4584              2018-12-30  2019-01-14            RV            6902.58   \n",
       "12499             2018-12-30  2019-01-14            RV           23785.79   \n",
       "37263             2018-12-30  2019-01-14            RV             150.44   \n",
       "15117             2018-12-30  2019-01-14            RV           23826.53   \n",
       "...                      ...         ...           ...                ...   \n",
       "35899             2020-02-26  2020-05-01            RV            1025.86   \n",
       "25848             2020-02-27  2020-03-13            RV           15005.29   \n",
       "5571              2020-02-27  2020-03-13            RV           65988.21   \n",
       "20398             2020-02-27  2020-03-13            RV           70504.55   \n",
       "30525             2020-02-27  2020-03-13            RV          101667.64   \n",
       "\n",
       "      baseline_create_date cust_payment_terms  due_term  delay  \n",
       "21733           2018-12-30               NAH4        15     -5  \n",
       "4584            2018-12-30               NAA8        15      1  \n",
       "12499           2018-12-30               NAA8        15      0  \n",
       "37263           2018-12-30               NAH4        15     -5  \n",
       "15117           2018-12-30               NAH4        15      1  \n",
       "...                    ...                ...       ...    ...  \n",
       "35899           2020-02-26               NAGD        65    -53  \n",
       "25848           2020-02-27               NAH4        15      0  \n",
       "5571            2020-02-27               NAH4        15      0  \n",
       "20398           2020-02-27               NAH4        15      0  \n",
       "30525           2020-02-27               NAA8        15      4  \n",
       "\n",
       "[36411 rows x 13 columns]"
      ]
     },
     "execution_count": 33,
     "metadata": {},
     "output_type": "execute_result"
    }
   ],
   "source": [
    "#sorting the data with posting date to split the data based on posting date\n",
    "my_dataset.sort_values('posting_date')"
   ]
  },
  {
   "cell_type": "code",
   "execution_count": 34,
   "id": "15d9fc50",
   "metadata": {},
   "outputs": [],
   "source": [
    "# Converting the main_train into X and y so that we can pass it onto train_test_split function\n",
    "\n",
    "# X --> contains the dataframe without the target i.e delay\n",
    "X=my_dataset.drop(['delay'],axis=1)\n",
    "\n",
    "# y --> contains only the target value \n",
    "Y=my_dataset['delay']"
   ]
  },
  {
   "cell_type": "code",
   "execution_count": 35,
   "id": "fccfa3ef",
   "metadata": {},
   "outputs": [],
   "source": [
    "#splitting the data into two part -- doing a 70:30 split i.e 30% data fed to intermediate validation data set\n",
    "X_train,X_val,y_train,y_val= train_test_split(X,Y,test_size=0.3,random_state=0,shuffle=True)"
   ]
  },
  {
   "cell_type": "code",
   "execution_count": 36,
   "id": "e022286a",
   "metadata": {},
   "outputs": [
    {
     "data": {
      "text/plain": [
       "((25487, 12), (10924, 12))"
      ]
     },
     "execution_count": 36,
     "metadata": {},
     "output_type": "execute_result"
    }
   ],
   "source": [
    "X_train.shape , X_val.shape"
   ]
  },
  {
   "cell_type": "markdown",
   "id": "a1d9d3f7",
   "metadata": {},
   "source": [
    "# EDA"
   ]
  },
  {
   "cell_type": "code",
   "execution_count": 37,
   "id": "0e7ec954",
   "metadata": {},
   "outputs": [
    {
     "data": {
      "text/plain": [
       "<AxesSubplot:xlabel='delay', ylabel='Density'>"
      ]
     },
     "execution_count": 37,
     "metadata": {},
     "output_type": "execute_result"
    },
    {
     "data": {
      "image/png": "[encoded data removed]",
      "text/plain": [
       "<Figure size 432x288 with 1 Axes>"
      ]
     },
     "metadata": {
      "needs_background": "light"
     },
     "output_type": "display_data"
    }
   ],
   "source": [
    "sns.distplot(y_train)"
   ]
  },
  {
   "cell_type": "code",
   "execution_count": 38,
   "id": "e5e72cd2",
   "metadata": {},
   "outputs": [
    {
     "name": "stdout",
     "output_type": "stream",
     "text": [
      "<class 'pandas.core.frame.DataFrame'>\n",
      "Int64Index: 25487 entries, 15293 to 2797\n",
      "Data columns (total 12 columns):\n",
      " #   Column                  Non-Null Count  Dtype         \n",
      "---  ------                  --------------  -----         \n",
      " 0   business_code           25487 non-null  object        \n",
      " 1   cust_number             25487 non-null  object        \n",
      " 2   clear_date              25487 non-null  datetime64[ns]\n",
      " 3   buisness_year           25487 non-null  int64         \n",
      " 4   posting_date            25487 non-null  datetime64[ns]\n",
      " 5   document_create_date.1  25487 non-null  datetime64[ns]\n",
      " 6   due_in_date             25487 non-null  datetime64[ns]\n",
      " 7   document_type           25487 non-null  object        \n",
      " 8   total_open_amount       25487 non-null  float64       \n",
      " 9   baseline_create_date    25487 non-null  datetime64[ns]\n",
      " 10  cust_payment_terms      25487 non-null  object        \n",
      " 11  due_term                25487 non-null  int64         \n",
      "dtypes: datetime64[ns](5), float64(1), int64(2), object(4)\n",
      "memory usage: 2.5+ MB\n"
     ]
    }
   ],
   "source": [
    "X_train.info()"
   ]
  },
  {
   "cell_type": "code",
   "execution_count": 39,
   "id": "37790520",
   "metadata": {},
   "outputs": [
    {
     "data": {
      "text/plain": [
       "<AxesSubplot:xlabel='clear_date', ylabel='baseline_create_date'>"
      ]
     },
     "execution_count": 39,
     "metadata": {},
     "output_type": "execute_result"
    },
    {
     "data": {
      "image/png": "[encoded data removed]",
      "text/plain": [
       "<Figure size 432x288 with 1 Axes>"
      ]
     },
     "metadata": {
      "needs_background": "light"
     },
     "output_type": "display_data"
    }
   ],
   "source": [
    "sns.scatterplot(data=X_train.merge(y_train,on=X_train.index) , x='clear_date' , y='baseline_create_date')"
   ]
  },
  {
   "cell_type": "code",
   "execution_count": 40,
   "id": "d34a5d5c",
   "metadata": {},
   "outputs": [
    {
     "data": {
      "text/plain": [
       "<AxesSubplot:xlabel='clear_date', ylabel='total_open_amount'>"
      ]
     },
     "execution_count": 40,
     "metadata": {},
     "output_type": "execute_result"
    },
    {
     "data": {
      "image/png": "[encoded data removed]",
      "text/plain": [
       "<Figure size 432x288 with 1 Axes>"
      ]
     },
     "metadata": {
      "needs_background": "light"
     },
     "output_type": "display_data"
    }
   ],
   "source": [
    "sns.scatterplot(data=X_train.merge(y_train,on=X_train.index) , x='clear_date' , y='total_open_amount')"
   ]
  },
  {
   "cell_type": "code",
   "execution_count": 41,
   "id": "d58208e9",
   "metadata": {},
   "outputs": [
    {
     "data": {
      "text/plain": [
       "<AxesSubplot:xlabel='delay', ylabel='total_open_amount'>"
      ]
     },
     "execution_count": 41,
     "metadata": {},
     "output_type": "execute_result"
    },
    {
     "data": {
      "image/png": "[encoded data removed]",
      "text/plain": [
       "<Figure size 432x288 with 1 Axes>"
      ]
     },
     "metadata": {
      "needs_background": "light"
     },
     "output_type": "display_data"
    }
   ],
   "source": [
    "sns.scatterplot(data=X_train.merge(y_train,on=X_train.index) , x='delay' , y='total_open_amount')"
   ]
  },
  {
   "cell_type": "code",
   "execution_count": 42,
   "id": "945ef8b5",
   "metadata": {},
   "outputs": [
    {
     "data": {
      "text/plain": [
       "<AxesSubplot:xlabel='delay', ylabel='due_term'>"
      ]
     },
     "execution_count": 42,
     "metadata": {},
     "output_type": "execute_result"
    },
    {
     "data": {
      "image/png": "[encoded data removed]",
      "text/plain": [
       "<Figure size 432x288 with 1 Axes>"
      ]
     },
     "metadata": {
      "needs_background": "light"
     },
     "output_type": "display_data"
    }
   ],
   "source": [
    "sns.scatterplot(data=X_train.merge(y_train,on=X_train.index) , x='delay' , y='due_term')"
   ]
  },
  {
   "cell_type": "markdown",
   "id": "1a19ac03",
   "metadata": {},
   "source": [
    "# Feature Engineering"
   ]
  },
  {
   "cell_type": "markdown",
   "id": "2b33aba9",
   "metadata": {},
   "source": [
    "### Changing the date values into seperate columns as Year, Day and month"
   ]
  },
  {
   "cell_type": "code",
   "execution_count": 43,
   "id": "66ec918a",
   "metadata": {},
   "outputs": [],
   "source": [
    "#for the X_train set\n",
    "X_train['baseline_create_date_day'] = X_train['baseline_create_date'].dt.day\n",
    "X_train['due_in_date_day'] = X_train['due_in_date'].dt.day\n",
    "X_train['document_create_date.1_day'] = X_train['document_create_date.1'].dt.day\n",
    "X_train['baseline_create_date_month'] = X_train['baseline_create_date'].dt.month\n",
    "X_train['due_in_date_month'] = X_train['due_in_date'].dt.month\n",
    "X_train['document_create_date.1_month'] = X_train['document_create_date.1'].dt.month\n",
    "X_train['baseline_create_date_year'] = X_train['baseline_create_date'].dt.year\n",
    "X_train['due_in_date_year'] = X_train['due_in_date'].dt.year\n",
    "X_train['document_create_date.1_year'] = X_train['document_create_date.1'].dt.year\n",
    "X_train['posting_date_day'] = X_train['posting_date'].dt.day\n",
    "X_train['posting_date_month'] = X_train['posting_date'].dt.month\n",
    "X_train['posting_date_year'] = X_train['posting_date'].dt.year\n",
    "\n",
    "#for the X_val set\n",
    "X_val['document_create_date.1_day'] =X_val['document_create_date.1'].dt.day\n",
    "X_val['baseline_create_date_day'] =X_val['baseline_create_date'].dt.day\n",
    "X_val['due_in_date_day'] = X_val['due_in_date'].dt.day\n",
    "X_val['document_create_date.1_month'] = X_val['document_create_date.1'].dt.month\n",
    "X_val['due_in_date_month'] = X_val['due_in_date'].dt.month\n",
    "X_val['baseline_create_date_month'] = X_val['baseline_create_date'].dt.month\n",
    "X_val['baseline_create_date_year'] = X_val['baseline_create_date'].dt.year\n",
    "X_val['due_in_date_year'] = X_val['due_in_date'].dt.year\n",
    "X_val['document_create_date.1_year'] = X_val['document_create_date.1'].dt.year\n",
    "X_val['posting_date_day'] = X_val['posting_date'].dt.day\n",
    "X_val['posting_date_month'] = X_val['posting_date'].dt.month\n",
    "X_val['posting_date_year'] = X_val['posting_date'].dt.year\n",
    "\n",
    "\n"
   ]
  },
  {
   "cell_type": "code",
   "execution_count": 44,
   "id": "090f01e5",
   "metadata": {},
   "outputs": [
    {
     "data": {
      "text/plain": [
       "(25487, 24)"
      ]
     },
     "execution_count": 44,
     "metadata": {},
     "output_type": "execute_result"
    }
   ],
   "source": [
    "X_train.shape"
   ]
  },
  {
   "cell_type": "code",
   "execution_count": 45,
   "id": "43a5f09e",
   "metadata": {},
   "outputs": [],
   "source": [
    "#dropping the date columns are we have already changed it into the day, month and year cols seperately\n",
    "X_val =X_val.drop(columns = ['due_in_date'])\n",
    "X_val =X_val.drop(columns = ['baseline_create_date'])\n",
    "X_train =X_train.drop(columns = ['document_create_date.1'])\n",
    "X_val =X_val.drop(columns = ['document_create_date.1'])\n",
    "X_train =X_train.drop(columns = ['due_in_date'])\n",
    "X_train =X_train.drop(columns = ['baseline_create_date'])\n",
    "X_val =X_val.drop(columns = ['posting_date'])\n",
    "X_train =X_train.drop(columns = ['posting_date'])\n",
    "X_val =X_val.drop(columns = ['clear_date'])\n",
    "X_train =X_train.drop(columns = ['clear_date'])"
   ]
  },
  {
   "cell_type": "code",
   "execution_count": 46,
   "id": "a9b272ec",
   "metadata": {},
   "outputs": [
    {
     "name": "stdout",
     "output_type": "stream",
     "text": [
      "<class 'pandas.core.frame.DataFrame'>\n",
      "Int64Index: 25487 entries, 15293 to 2797\n",
      "Data columns (total 19 columns):\n",
      " #   Column                        Non-Null Count  Dtype  \n",
      "---  ------                        --------------  -----  \n",
      " 0   business_code                 25487 non-null  object \n",
      " 1   cust_number                   25487 non-null  object \n",
      " 2   buisness_year                 25487 non-null  int64  \n",
      " 3   document_type                 25487 non-null  object \n",
      " 4   total_open_amount             25487 non-null  float64\n",
      " 5   cust_payment_terms            25487 non-null  object \n",
      " 6   due_term                      25487 non-null  int64  \n",
      " 7   baseline_create_date_day      25487 non-null  int64  \n",
      " 8   due_in_date_day               25487 non-null  int64  \n",
      " 9   document_create_date.1_day    25487 non-null  int64  \n",
      " 10  baseline_create_date_month    25487 non-null  int64  \n",
      " 11  due_in_date_month             25487 non-null  int64  \n",
      " 12  document_create_date.1_month  25487 non-null  int64  \n",
      " 13  baseline_create_date_year     25487 non-null  int64  \n",
      " 14  due_in_date_year              25487 non-null  int64  \n",
      " 15  document_create_date.1_year   25487 non-null  int64  \n",
      " 16  posting_date_day              25487 non-null  int64  \n",
      " 17  posting_date_month            25487 non-null  int64  \n",
      " 18  posting_date_year             25487 non-null  int64  \n",
      "dtypes: float64(1), int64(14), object(4)\n",
      "memory usage: 3.9+ MB\n"
     ]
    }
   ],
   "source": [
    "X_train.info()"
   ]
  },
  {
   "cell_type": "code",
   "execution_count": 47,
   "id": "dce4bd2e",
   "metadata": {},
   "outputs": [
    {
     "data": {
      "text/plain": [
       "U001    35216\n",
       "CA02      545\n",
       "U013      518\n",
       "U002      117\n",
       "U005       11\n",
       "U007        4\n",
       "Name: business_code, dtype: int64"
      ]
     },
     "execution_count": 47,
     "metadata": {},
     "output_type": "execute_result"
    }
   ],
   "source": [
    "#counting the number of unique values in the business_code\n",
    "my_dataset.business_code.value_counts()"
   ]
  },
  {
   "cell_type": "code",
   "execution_count": 48,
   "id": "1832ebbb",
   "metadata": {},
   "outputs": [],
   "source": [
    "#importing label encoder\n",
    "from sklearn.preprocessing import LabelEncoder"
   ]
  },
  {
   "cell_type": "code",
   "execution_count": 49,
   "id": "aa8e8d57",
   "metadata": {},
   "outputs": [],
   "source": [
    "#encoding the businesscode using label encoding\n",
    "business_code_enc=LabelEncoder()\n",
    "business_code_enc.fit(X_train['business_code'])\n",
    "X_train['business_code_enc']=business_code_enc.transform(X_train['business_code'])"
   ]
  },
  {
   "cell_type": "code",
   "execution_count": 50,
   "id": "9000c69d",
   "metadata": {},
   "outputs": [],
   "source": [
    "X_val['business_code_enc']=business_code_enc.transform(X_val['business_code'])"
   ]
  },
  {
   "cell_type": "code",
   "execution_count": 51,
   "id": "e9b612b9",
   "metadata": {},
   "outputs": [],
   "source": [
    "#dropping the business_code as we have encoded it\n",
    "X_val =X_val.drop(columns = ['business_code'])\n",
    "X_train =X_train.drop(columns = ['business_code'])"
   ]
  },
  {
   "cell_type": "code",
   "execution_count": 52,
   "id": "03cd8309",
   "metadata": {},
   "outputs": [
    {
     "data": {
      "text/plain": [
       "200769623    6759\n",
       "200726979    1145\n",
       "200762301     793\n",
       "200759878     758\n",
       "200794332     708\n",
       "             ... \n",
       "200481695       1\n",
       "100054709       1\n",
       "100047403       1\n",
       "100046466       1\n",
       "200548360       1\n",
       "Name: cust_number, Length: 847, dtype: int64"
      ]
     },
     "execution_count": 52,
     "metadata": {},
     "output_type": "execute_result"
    }
   ],
   "source": [
    "#counting the number of unique values in the cust_number\n",
    "X_train.cust_number.value_counts()"
   ]
  },
  {
   "cell_type": "code",
   "execution_count": 53,
   "id": "e10d62e3",
   "metadata": {},
   "outputs": [],
   "source": [
    "# to extract the number from cust_number rows which are in string format eg CCCA01...\n",
    "X_train['cust_number'] = X_train['cust_number'].str.extract('(\\d+)')\n",
    "X_val['cust_number'] = X_val['cust_number'].str.extract('(\\d+)')"
   ]
  },
  {
   "cell_type": "code",
   "execution_count": 54,
   "id": "eb127ffd",
   "metadata": {},
   "outputs": [],
   "source": [
    "#type cast the cust_number calumn to int\n",
    "X_train['cust_number'] =X_train['cust_number'].astype(int)\n",
    "X_val['cust_number'] =X_val['cust_number'].astype(int)"
   ]
  },
  {
   "cell_type": "code",
   "execution_count": 55,
   "id": "04150d94",
   "metadata": {},
   "outputs": [],
   "source": [
    "#encoding the cust_payment_terms using label encoding\n",
    "cust_payment_terms_enc=LabelEncoder()\n",
    "cust_payment_terms_enc.fit(X_train['cust_payment_terms'])\n",
    "X_train['cust_payment_terms_enc']=cust_payment_terms_enc.transform(X_train['cust_payment_terms'])\n"
   ]
  },
  {
   "cell_type": "code",
   "execution_count": 56,
   "id": "3ffa2b6b",
   "metadata": {},
   "outputs": [],
   "source": [
    "cust_payment_terms_enc.fit(X_val['cust_payment_terms'])\n",
    "X_val['cust_payment_terms_enc']=cust_payment_terms_enc.transform(X_val['cust_payment_terms'])"
   ]
  },
  {
   "cell_type": "code",
   "execution_count": 57,
   "id": "8e48e6d3",
   "metadata": {},
   "outputs": [],
   "source": [
    "X_val =X_val.drop(columns = ['cust_payment_terms'])\n",
    "X_train =X_train.drop(columns = ['cust_payment_terms'])"
   ]
  },
  {
   "cell_type": "code",
   "execution_count": 58,
   "id": "ca7dd93d",
   "metadata": {},
   "outputs": [
    {
     "name": "stdout",
     "output_type": "stream",
     "text": [
      "<class 'pandas.core.frame.DataFrame'>\n",
      "Int64Index: 10924 entries, 6417 to 4878\n",
      "Data columns (total 19 columns):\n",
      " #   Column                        Non-Null Count  Dtype  \n",
      "---  ------                        --------------  -----  \n",
      " 0   cust_number                   10924 non-null  int32  \n",
      " 1   buisness_year                 10924 non-null  int64  \n",
      " 2   document_type                 10924 non-null  object \n",
      " 3   total_open_amount             10924 non-null  float64\n",
      " 4   due_term                      10924 non-null  int64  \n",
      " 5   document_create_date.1_day    10924 non-null  int64  \n",
      " 6   baseline_create_date_day      10924 non-null  int64  \n",
      " 7   due_in_date_day               10924 non-null  int64  \n",
      " 8   document_create_date.1_month  10924 non-null  int64  \n",
      " 9   due_in_date_month             10924 non-null  int64  \n",
      " 10  baseline_create_date_month    10924 non-null  int64  \n",
      " 11  baseline_create_date_year     10924 non-null  int64  \n",
      " 12  due_in_date_year              10924 non-null  int64  \n",
      " 13  document_create_date.1_year   10924 non-null  int64  \n",
      " 14  posting_date_day              10924 non-null  int64  \n",
      " 15  posting_date_month            10924 non-null  int64  \n",
      " 16  posting_date_year             10924 non-null  int64  \n",
      " 17  business_code_enc             10924 non-null  int32  \n",
      " 18  cust_payment_terms_enc        10924 non-null  int32  \n",
      "dtypes: float64(1), int32(3), int64(14), object(1)\n",
      "memory usage: 1.5+ MB\n"
     ]
    }
   ],
   "source": [
    "X_val.info()"
   ]
  },
  {
   "cell_type": "code",
   "execution_count": 59,
   "id": "d2f90c62",
   "metadata": {},
   "outputs": [],
   "source": [
    "#encoding the document_type using label encoding\n",
    "document_type_enc = LabelEncoder()\n",
    "document_type_enc.fit(X_train[\"document_type\"])\n",
    "X_train[\"document_type_enc\"]=document_type_enc.transform(X_train[\"document_type\"])"
   ]
  },
  {
   "cell_type": "code",
   "execution_count": 60,
   "id": "7d573fda",
   "metadata": {},
   "outputs": [],
   "source": [
    "document_type_enc.fit(X_val[\"document_type\"])\n",
    "X_val[\"document_type_enc\"]=document_type_enc.transform(X_val[\"document_type\"])"
   ]
  },
  {
   "cell_type": "code",
   "execution_count": 61,
   "id": "15985808",
   "metadata": {},
   "outputs": [],
   "source": [
    "X_val =X_val.drop(columns = ['document_type'])\n",
    "X_train =X_train.drop(columns = ['document_type'])"
   ]
  },
  {
   "cell_type": "markdown",
   "id": "c1f3038e",
   "metadata": {},
   "source": [
    "# Feature Selection"
   ]
  },
  {
   "cell_type": "code",
   "execution_count": 62,
   "id": "f5586a7a",
   "metadata": {},
   "outputs": [
    {
     "data": {
      "image/png": "[encoded data removed]",
      "text/plain": [
       "<Figure size 1080x576 with 2 Axes>"
      ]
     },
     "metadata": {
      "needs_background": "light"
     },
     "output_type": "display_data"
    }
   ],
   "source": [
    "plt.subplots(figsize =(15,8))\n",
    "sns.heatmap(X_train.corr(),annot=True,cmap=\"PiYG\")\n",
    "plt.title(\"Correlations Among Features\",fontsize = 20);"
   ]
  },
  {
   "cell_type": "code",
   "execution_count": 63,
   "id": "a867ea7f",
   "metadata": {},
   "outputs": [],
   "source": [
    "def handling_correlation(df,threshold=0.8):\n",
    "    # creating set to hold the correlated features\n",
    "    corr_features = set()\n",
    "    # create the correlation matrix (default to pearson)\n",
    "    corr_matrix =df.corr()\n",
    "    #code for selecting all correleated features\n",
    "    for i in range(len(corr_matrix .columns)):\n",
    "        for j in range(i):\n",
    "            if abs(corr_matrix.iloc[i, j]) >threshold:\n",
    "                colname = corr_matrix.columns[i]\n",
    "                corr_features.add(colname)\n",
    "    return list(corr_features)"
   ]
  },
  {
   "cell_type": "code",
   "execution_count": 64,
   "id": "7c61a158",
   "metadata": {},
   "outputs": [
    {
     "data": {
      "text/plain": [
       "['posting_date_month',\n",
       " 'posting_date_year',\n",
       " 'baseline_create_date_year',\n",
       " 'posting_date_day',\n",
       " 'due_in_date_month',\n",
       " 'document_create_date.1_day',\n",
       " 'due_in_date_year',\n",
       " 'document_create_date.1_year',\n",
       " 'document_create_date.1_month']"
      ]
     },
     "execution_count": 64,
     "metadata": {},
     "output_type": "execute_result"
    }
   ],
   "source": [
    "#in the time of checking co-relation we have to check with target also that's why I am passing out output_label also\n",
    "handling_correlation(X_train.copy(),0.85)"
   ]
  },
  {
   "cell_type": "code",
   "execution_count": 65,
   "id": "73703e01",
   "metadata": {},
   "outputs": [],
   "source": [
    "#dropping col as they are highly correlated with each other\n",
    "X_train =X_train.drop(columns = ['baseline_create_date_year'])\n",
    "X_train =X_train.drop(columns = ['posting_date_year'])\n",
    "X_val =X_val.drop(columns = ['baseline_create_date_year'])\n",
    "X_val =X_val.drop(columns = ['posting_date_year'])"
   ]
  },
  {
   "cell_type": "code",
   "execution_count": 66,
   "id": "44f5c590",
   "metadata": {},
   "outputs": [
    {
     "data": {
      "text/plain": [
       "['posting_date_month',\n",
       " 'posting_date_day',\n",
       " 'due_in_date_month',\n",
       " 'document_create_date.1_day',\n",
       " 'due_in_date_year',\n",
       " 'document_create_date.1_year',\n",
       " 'document_create_date.1_month']"
      ]
     },
     "execution_count": 66,
     "metadata": {},
     "output_type": "execute_result"
    }
   ],
   "source": [
    "handling_correlation(X_train.copy(),0.85)"
   ]
  },
  {
   "cell_type": "code",
   "execution_count": 67,
   "id": "db8d8314",
   "metadata": {},
   "outputs": [],
   "source": [
    "X_train =X_train.drop(columns = ['posting_date_month'])\n",
    "X_train =X_train.drop(columns = ['posting_date_day'])\n",
    "X_val =X_val.drop(columns = ['posting_date_month'])\n",
    "X_val =X_val.drop(columns = ['posting_date_day'])"
   ]
  },
  {
   "cell_type": "code",
   "execution_count": 68,
   "id": "97d0db00",
   "metadata": {},
   "outputs": [
    {
     "data": {
      "text/plain": [
       "['due_in_date_month',\n",
       " 'document_create_date.1_day',\n",
       " 'due_in_date_year',\n",
       " 'document_create_date.1_year',\n",
       " 'document_create_date.1_month']"
      ]
     },
     "execution_count": 68,
     "metadata": {},
     "output_type": "execute_result"
    }
   ],
   "source": [
    "handling_correlation(X_train.copy(),0.85)"
   ]
  },
  {
   "cell_type": "code",
   "execution_count": null,
   "id": "2666de9a",
   "metadata": {},
   "outputs": [],
   "source": []
  },
  {
   "cell_type": "markdown",
   "id": "bfb41efe",
   "metadata": {},
   "source": [
    "# Modelling"
   ]
  },
  {
   "cell_type": "code",
   "execution_count": 69,
   "id": "797d5790",
   "metadata": {},
   "outputs": [],
   "source": [
    "# Defining Lists to Store in the Results and Names of Algorithms\n",
    "MSE_Score = []\n",
    "R2_Score = []\n",
    "Algorithm = []"
   ]
  },
  {
   "cell_type": "markdown",
   "id": "75e58841",
   "metadata": {},
   "source": [
    "### Linear Regression"
   ]
  },
  {
   "cell_type": "code",
   "execution_count": 70,
   "id": "a787e396",
   "metadata": {},
   "outputs": [],
   "source": [
    "from sklearn.linear_model import LinearRegression\n",
    "from sklearn.metrics import mean_squared_error\n",
    "from sklearn.metrics import r2_score\n",
    "base_model= LinearRegression()\n",
    "base_model.fit(X_train,y_train)\n",
    "Algorithm.append('Linear Regression')\n"
   ]
  },
  {
   "cell_type": "code",
   "execution_count": 71,
   "id": "3c55257b",
   "metadata": {},
   "outputs": [],
   "source": [
    "y_predict_LR=base_model.predict(X_val)"
   ]
  },
  {
   "cell_type": "code",
   "execution_count": 72,
   "id": "18a4d806",
   "metadata": {},
   "outputs": [
    {
     "data": {
      "text/plain": [
       "6417     -3\n",
       "24585   -20\n",
       "25301     3\n",
       "12346     0\n",
       "30577     3\n",
       "         ..\n",
       "33723   -17\n",
       "11261     0\n",
       "5053      1\n",
       "18241    -5\n",
       "4878      4\n",
       "Name: delay, Length: 10924, dtype: int64"
      ]
     },
     "execution_count": 72,
     "metadata": {},
     "output_type": "execute_result"
    }
   ],
   "source": [
    "y_val"
   ]
  },
  {
   "cell_type": "code",
   "execution_count": 73,
   "id": "a4ed9dea",
   "metadata": {},
   "outputs": [],
   "source": [
    "MSE_Score.append(mean_squared_error(y_val, y_predict_LR, squared=False))"
   ]
  },
  {
   "cell_type": "code",
   "execution_count": 74,
   "id": "bd8f5f6f",
   "metadata": {},
   "outputs": [],
   "source": [
    "R2_Score.append(r2_score(y_val,y_predict_LR))"
   ]
  },
  {
   "cell_type": "markdown",
   "id": "529705bd",
   "metadata": {},
   "source": [
    "### Decision Tree Regressor"
   ]
  },
  {
   "cell_type": "code",
   "execution_count": 75,
   "id": "0876d9af",
   "metadata": {},
   "outputs": [],
   "source": [
    "from sklearn.tree import DecisionTreeRegressor\n",
    "regressor = DecisionTreeRegressor(random_state=0 , max_depth=5)\n",
    "Algorithm.append('DecisionTreeRegressor')"
   ]
  },
  {
   "cell_type": "code",
   "execution_count": 76,
   "id": "34237e90",
   "metadata": {},
   "outputs": [
    {
     "data": {
      "text/plain": [
       "DecisionTreeRegressor(max_depth=5, random_state=0)"
      ]
     },
     "execution_count": 76,
     "metadata": {},
     "output_type": "execute_result"
    }
   ],
   "source": [
    "regressor.fit(X_train, y_train)"
   ]
  },
  {
   "cell_type": "code",
   "execution_count": 77,
   "id": "576f3960",
   "metadata": {},
   "outputs": [],
   "source": [
    "y_predict_DTR = regressor.predict(X_val)"
   ]
  },
  {
   "cell_type": "code",
   "execution_count": 78,
   "id": "f1de671f",
   "metadata": {},
   "outputs": [],
   "source": [
    "MSE_Score.append(mean_squared_error(y_val, y_predict_DTR, squared=False))"
   ]
  },
  {
   "cell_type": "code",
   "execution_count": 79,
   "id": "e791d8de",
   "metadata": {},
   "outputs": [],
   "source": [
    "R2_Score.append(r2_score(y_val,y_predict_DTR))"
   ]
  },
  {
   "cell_type": "markdown",
   "id": "47fb113e",
   "metadata": {},
   "source": [
    "### Support Vector Regression"
   ]
  },
  {
   "cell_type": "code",
   "execution_count": 80,
   "id": "d3f0bb24",
   "metadata": {},
   "outputs": [],
   "source": [
    "# Fitting SVR to the Training Set\n",
    "from sklearn.svm import SVR\n",
    "Algorithm.append('Support Vector Regression')\n",
    "clf = SVR()\n",
    "clf.fit(X_train, y_train)\n",
    "\n",
    "# Predicting the Test Set Results\n",
    "y_predicted_SVR = clf.predict(X_val) "
   ]
  },
  {
   "cell_type": "code",
   "execution_count": 81,
   "id": "f12427ec",
   "metadata": {},
   "outputs": [],
   "source": [
    "# Appending the Scores For Visualisation at a Later Part\n",
    "MSE_Score.append(mean_squared_error(y_val, y_predicted_SVR))\n",
    "R2_Score.append(r2_score(y_val, y_predicted_SVR))"
   ]
  },
  {
   "cell_type": "markdown",
   "id": "1c74f483",
   "metadata": {},
   "source": [
    "### Random Forest Regressor"
   ]
  },
  {
   "cell_type": "code",
   "execution_count": 82,
   "id": "71710064",
   "metadata": {},
   "outputs": [],
   "source": [
    "# Fitting Random Forest Regressor Tree to the Training Set\n",
    "from sklearn.ensemble import RandomForestRegressor\n",
    "Algorithm.append('Random Forest Regressor')\n",
    "random = RandomForestRegressor()\n",
    "random.fit(X_train, y_train)\n",
    "\n",
    "# Predicting the Test Set Results\n",
    "y_predicted_RFR = random.predict(X_val)"
   ]
  },
  {
   "cell_type": "code",
   "execution_count": 83,
   "id": "8acf8575",
   "metadata": {},
   "outputs": [],
   "source": [
    "# Appending the Scores For Visualisation at a Later Part\n",
    "MSE_Score.append(mean_squared_error(y_val, y_predicted_RFR))\n",
    "R2_Score.append(r2_score(y_val, y_predicted_RFR))"
   ]
  },
  {
   "cell_type": "markdown",
   "id": "b216a3f8",
   "metadata": {},
   "source": [
    "# Score Card of the Models' Performances"
   ]
  },
  {
   "cell_type": "code",
   "execution_count": 84,
   "id": "c52ae06f",
   "metadata": {},
   "outputs": [],
   "source": [
    "# Just Combining the Lists into a DataFrame for a Better Visualisation\n",
    "Comparison = pd.DataFrame(list(zip(Algorithm, MSE_Score, R2_Score)), columns = ['Algorithm', 'MSE_Score', 'R2_Score'])"
   ]
  },
  {
   "cell_type": "code",
   "execution_count": 85,
   "id": "ac83d9ec",
   "metadata": {},
   "outputs": [
    {
     "data": {
      "text/html": [
       "<div>\n",
       "<style scoped>\n",
       "    .dataframe tbody tr th:only-of-type {\n",
       "        vertical-align: middle;\n",
       "    }\n",
       "\n",
       "    .dataframe tbody tr th {\n",
       "        vertical-align: top;\n",
       "    }\n",
       "\n",
       "    .dataframe thead th {\n",
       "        text-align: right;\n",
       "    }\n",
       "</style>\n",
       "<table border=\"1\" class=\"dataframe\">\n",
       "  <thead>\n",
       "    <tr style=\"text-align: right;\">\n",
       "      <th></th>\n",
       "      <th>Algorithm</th>\n",
       "      <th>MSE_Score</th>\n",
       "      <th>R2_Score</th>\n",
       "    </tr>\n",
       "  </thead>\n",
       "  <tbody>\n",
       "    <tr>\n",
       "      <th>0</th>\n",
       "      <td>Linear Regression</td>\n",
       "      <td>10.185635</td>\n",
       "      <td>0.157155</td>\n",
       "    </tr>\n",
       "    <tr>\n",
       "      <th>1</th>\n",
       "      <td>DecisionTreeRegressor</td>\n",
       "      <td>10.047445</td>\n",
       "      <td>0.179870</td>\n",
       "    </tr>\n",
       "    <tr>\n",
       "      <th>2</th>\n",
       "      <td>Support Vector Regression</td>\n",
       "      <td>102.750561</td>\n",
       "      <td>0.165251</td>\n",
       "    </tr>\n",
       "    <tr>\n",
       "      <th>3</th>\n",
       "      <td>Random Forest Regressor</td>\n",
       "      <td>107.927658</td>\n",
       "      <td>0.123192</td>\n",
       "    </tr>\n",
       "  </tbody>\n",
       "</table>\n",
       "</div>"
      ],
      "text/plain": [
       "                   Algorithm   MSE_Score  R2_Score\n",
       "0          Linear Regression   10.185635  0.157155\n",
       "1      DecisionTreeRegressor   10.047445  0.179870\n",
       "2  Support Vector Regression  102.750561  0.165251\n",
       "3    Random Forest Regressor  107.927658  0.123192"
      ]
     },
     "execution_count": 85,
     "metadata": {},
     "output_type": "execute_result"
    }
   ],
   "source": [
    "# Score Card\n",
    "Comparison"
   ]
  },
  {
   "cell_type": "markdown",
   "id": "0e5be927",
   "metadata": {},
   "source": [
    "\n",
    "# Lost Data"
   ]
  },
  {
   "cell_type": "code",
   "execution_count": 86,
   "id": "2c764a1c",
   "metadata": {},
   "outputs": [
    {
     "data": {
      "text/plain": [
       "business_code                6\n",
       "cust_number                551\n",
       "name_customer             1768\n",
       "clear_date                   0\n",
       "buisness_year                1\n",
       "doc_id                    9682\n",
       "posting_date                81\n",
       "document_create_date        87\n",
       "document_create_date.1      81\n",
       "due_in_date                125\n",
       "invoice_currency             2\n",
       "document type                1\n",
       "posting_id                   1\n",
       "area_business                0\n",
       "total_open_amount         8998\n",
       "baseline_create_date        83\n",
       "cust_payment_terms          46\n",
       "invoice_id                9682\n",
       "isOpen                       1\n",
       "dtype: int64"
      ]
     },
     "execution_count": 86,
     "metadata": {},
     "output_type": "execute_result"
    }
   ],
   "source": [
    "test_dataset.nunique()"
   ]
  },
  {
   "cell_type": "code",
   "execution_count": 87,
   "id": "2c63038b",
   "metadata": {},
   "outputs": [],
   "source": [
    "test_dataset=test_dataset.drop([\"posting_id\"],axis=1)\n",
    "test_dataset=test_dataset.drop([\"isOpen\"],axis=1)\n",
    "test_dataset=test_dataset.drop([\"clear_date\"],axis=1)\n",
    "test_dataset=test_dataset.drop([\"area_business\"],axis=1)"
   ]
  },
  {
   "cell_type": "code",
   "execution_count": 88,
   "id": "5081f398",
   "metadata": {},
   "outputs": [
    {
     "data": {
      "text/plain": [
       "business_code             0\n",
       "cust_number               0\n",
       "name_customer             0\n",
       "buisness_year             0\n",
       "doc_id                    0\n",
       "posting_date              0\n",
       "document_create_date      0\n",
       "document_create_date.1    0\n",
       "due_in_date               0\n",
       "invoice_currency          0\n",
       "document type             0\n",
       "total_open_amount         0\n",
       "baseline_create_date      0\n",
       "cust_payment_terms        0\n",
       "invoice_id                0\n",
       "dtype: int64"
      ]
     },
     "execution_count": 88,
     "metadata": {},
     "output_type": "execute_result"
    }
   ],
   "source": [
    "test_dataset.isna().sum()"
   ]
  },
  {
   "cell_type": "code",
   "execution_count": 89,
   "id": "063d2a2d",
   "metadata": {},
   "outputs": [
    {
     "name": "stdout",
     "output_type": "stream",
     "text": [
      "<class 'pandas.core.frame.DataFrame'>\n",
      "Int64Index: 10000 entries, 0 to 49999\n",
      "Data columns (total 15 columns):\n",
      " #   Column                  Non-Null Count  Dtype  \n",
      "---  ------                  --------------  -----  \n",
      " 0   business_code           10000 non-null  object \n",
      " 1   cust_number             10000 non-null  object \n",
      " 2   name_customer           10000 non-null  object \n",
      " 3   buisness_year           10000 non-null  int64  \n",
      " 4   doc_id                  10000 non-null  int64  \n",
      " 5   posting_date            10000 non-null  object \n",
      " 6   document_create_date    10000 non-null  int64  \n",
      " 7   document_create_date.1  10000 non-null  int64  \n",
      " 8   due_in_date             10000 non-null  int64  \n",
      " 9   invoice_currency        10000 non-null  object \n",
      " 10  document type           10000 non-null  object \n",
      " 11  total_open_amount       10000 non-null  float64\n",
      " 12  baseline_create_date    10000 non-null  int64  \n",
      " 13  cust_payment_terms      10000 non-null  object \n",
      " 14  invoice_id              10000 non-null  float64\n",
      "dtypes: float64(2), int64(6), object(7)\n",
      "memory usage: 1.2+ MB\n"
     ]
    }
   ],
   "source": [
    "test_dataset.info()"
   ]
  },
  {
   "cell_type": "code",
   "execution_count": 90,
   "id": "3185b63a",
   "metadata": {},
   "outputs": [
    {
     "data": {
      "text/plain": [
       "10000"
      ]
     },
     "execution_count": 90,
     "metadata": {},
     "output_type": "execute_result"
    }
   ],
   "source": [
    "#checking if doc_id and invoice_id are same \n",
    "(test_dataset['doc_id'] == test_dataset['invoice_id']).sum()"
   ]
  },
  {
   "cell_type": "code",
   "execution_count": 91,
   "id": "883c4ee1",
   "metadata": {},
   "outputs": [],
   "source": [
    "#doc_id and invoice id are exactly same so dropping doc_id\n",
    "test_dataset=test_dataset.drop([\"doc_id\"],axis=1)"
   ]
  },
  {
   "cell_type": "code",
   "execution_count": 92,
   "id": "529f10f0",
   "metadata": {},
   "outputs": [],
   "source": [
    "#deleting column having unique rows as this cannont help are to find any pattern in prediciton as every row id different.\n",
    "test_dataset=test_dataset.drop([\"invoice_id\"],axis=1)"
   ]
  },
  {
   "cell_type": "code",
   "execution_count": 93,
   "id": "8f07ff76",
   "metadata": {},
   "outputs": [],
   "source": [
    "#deleting the insignificant columns\n",
    "test_dataset=test_dataset.drop([\"name_customer\"],axis=1)\n",
    "test_dataset=test_dataset.drop([\"document_create_date\"],axis=1)"
   ]
  },
  {
   "cell_type": "code",
   "execution_count": 94,
   "id": "9f88a42f",
   "metadata": {},
   "outputs": [
    {
     "data": {
      "text/plain": [
       "(10000, 11)"
      ]
     },
     "execution_count": 94,
     "metadata": {},
     "output_type": "execute_result"
    }
   ],
   "source": [
    "test_dataset.shape"
   ]
  },
  {
   "cell_type": "code",
   "execution_count": 95,
   "id": "e5dabe95",
   "metadata": {},
   "outputs": [
    {
     "data": {
      "text/html": [
       "<div>\n",
       "<style scoped>\n",
       "    .dataframe tbody tr th:only-of-type {\n",
       "        vertical-align: middle;\n",
       "    }\n",
       "\n",
       "    .dataframe tbody tr th {\n",
       "        vertical-align: top;\n",
       "    }\n",
       "\n",
       "    .dataframe thead th {\n",
       "        text-align: right;\n",
       "    }\n",
       "</style>\n",
       "<table border=\"1\" class=\"dataframe\">\n",
       "  <thead>\n",
       "    <tr style=\"text-align: right;\">\n",
       "      <th></th>\n",
       "      <th>business_code</th>\n",
       "      <th>cust_number</th>\n",
       "      <th>buisness_year</th>\n",
       "      <th>posting_date</th>\n",
       "      <th>document_create_date.1</th>\n",
       "      <th>due_in_date</th>\n",
       "      <th>invoice_currency</th>\n",
       "      <th>document type</th>\n",
       "      <th>total_open_amount</th>\n",
       "      <th>baseline_create_date</th>\n",
       "      <th>cust_payment_terms</th>\n",
       "    </tr>\n",
       "  </thead>\n",
       "  <tbody>\n",
       "    <tr>\n",
       "      <th>0</th>\n",
       "      <td>U001</td>\n",
       "      <td>200803720</td>\n",
       "      <td>2020</td>\n",
       "      <td>4/23/2020</td>\n",
       "      <td>20200423</td>\n",
       "      <td>20200423</td>\n",
       "      <td>USD</td>\n",
       "      <td>RV</td>\n",
       "      <td>9755.78</td>\n",
       "      <td>20200416</td>\n",
       "      <td>NAM1</td>\n",
       "    </tr>\n",
       "    <tr>\n",
       "      <th>7</th>\n",
       "      <td>U001</td>\n",
       "      <td>200769623</td>\n",
       "      <td>2020</td>\n",
       "      <td>3/4/2020</td>\n",
       "      <td>20200304</td>\n",
       "      <td>20200319</td>\n",
       "      <td>USD</td>\n",
       "      <td>RV</td>\n",
       "      <td>13505.14</td>\n",
       "      <td>20200304</td>\n",
       "      <td>NAH4</td>\n",
       "    </tr>\n",
       "    <tr>\n",
       "      <th>10</th>\n",
       "      <td>U001</td>\n",
       "      <td>200769623</td>\n",
       "      <td>2020</td>\n",
       "      <td>2/29/2020</td>\n",
       "      <td>20200229</td>\n",
       "      <td>20200315</td>\n",
       "      <td>USD</td>\n",
       "      <td>RV</td>\n",
       "      <td>5496.44</td>\n",
       "      <td>20200229</td>\n",
       "      <td>NAH4</td>\n",
       "    </tr>\n",
       "    <tr>\n",
       "      <th>15</th>\n",
       "      <td>U001</td>\n",
       "      <td>200769623</td>\n",
       "      <td>2020</td>\n",
       "      <td>4/12/2020</td>\n",
       "      <td>20200412</td>\n",
       "      <td>20200427</td>\n",
       "      <td>USD</td>\n",
       "      <td>RV</td>\n",
       "      <td>71674.10</td>\n",
       "      <td>20200412</td>\n",
       "      <td>NAH4</td>\n",
       "    </tr>\n",
       "    <tr>\n",
       "      <th>16</th>\n",
       "      <td>U001</td>\n",
       "      <td>200780383</td>\n",
       "      <td>2020</td>\n",
       "      <td>4/14/2020</td>\n",
       "      <td>20200414</td>\n",
       "      <td>20200429</td>\n",
       "      <td>USD</td>\n",
       "      <td>RV</td>\n",
       "      <td>20276.74</td>\n",
       "      <td>20200414</td>\n",
       "      <td>NAA8</td>\n",
       "    </tr>\n",
       "  </tbody>\n",
       "</table>\n",
       "</div>"
      ],
      "text/plain": [
       "   business_code cust_number  buisness_year posting_date  \\\n",
       "0           U001   200803720           2020    4/23/2020   \n",
       "7           U001   200769623           2020     3/4/2020   \n",
       "10          U001   200769623           2020    2/29/2020   \n",
       "15          U001   200769623           2020    4/12/2020   \n",
       "16          U001   200780383           2020    4/14/2020   \n",
       "\n",
       "    document_create_date.1  due_in_date invoice_currency document type  \\\n",
       "0                 20200423     20200423              USD            RV   \n",
       "7                 20200304     20200319              USD            RV   \n",
       "10                20200229     20200315              USD            RV   \n",
       "15                20200412     20200427              USD            RV   \n",
       "16                20200414     20200429              USD            RV   \n",
       "\n",
       "    total_open_amount  baseline_create_date cust_payment_terms  \n",
       "0             9755.78              20200416               NAM1  \n",
       "7            13505.14              20200304               NAH4  \n",
       "10            5496.44              20200229               NAH4  \n",
       "15           71674.10              20200412               NAH4  \n",
       "16           20276.74              20200414               NAA8  "
      ]
     },
     "execution_count": 95,
     "metadata": {},
     "output_type": "execute_result"
    }
   ],
   "source": [
    "test_dataset.head()"
   ]
  },
  {
   "cell_type": "code",
   "execution_count": 96,
   "id": "4c484e98",
   "metadata": {},
   "outputs": [
    {
     "name": "stdout",
     "output_type": "stream",
     "text": [
      "business_code              object\n",
      "cust_number                object\n",
      "buisness_year               int64\n",
      "posting_date               object\n",
      "document_create_date.1      int64\n",
      "due_in_date                 int64\n",
      "invoice_currency           object\n",
      "document type              object\n",
      "total_open_amount         float64\n",
      "baseline_create_date        int64\n",
      "cust_payment_terms         object\n",
      "dtype: object\n"
     ]
    }
   ],
   "source": [
    "# printint the datatype of the columns\n",
    "print(test_dataset.dtypes)"
   ]
  },
  {
   "cell_type": "code",
   "execution_count": 97,
   "id": "d361c48e",
   "metadata": {},
   "outputs": [
    {
     "data": {
      "text/plain": [
       "business_code                     object\n",
       "cust_number                       object\n",
       "buisness_year                      int64\n",
       "posting_date              datetime64[ns]\n",
       "document_create_date.1    datetime64[ns]\n",
       "due_in_date               datetime64[ns]\n",
       "invoice_currency                  object\n",
       "document type                     object\n",
       "total_open_amount                float64\n",
       "baseline_create_date      datetime64[ns]\n",
       "cust_payment_terms                object\n",
       "dtype: object"
      ]
     },
     "execution_count": 97,
     "metadata": {},
     "output_type": "execute_result"
    }
   ],
   "source": [
    "#datetime convert\n",
    "test_dataset['due_in_date']=pd.to_datetime(test_dataset['due_in_date'].astype(str))\n",
    "test_dataset['baseline_create_date']=pd.to_datetime(test_dataset['baseline_create_date'].astype(str))\n",
    "test_dataset['document_create_date.1']=pd.to_datetime(test_dataset['document_create_date.1'].astype(str))\n",
    "test_dataset['posting_date']=pd.to_datetime(test_dataset['posting_date'].astype(str))\n",
    "test_dataset.dtypes"
   ]
  },
  {
   "cell_type": "code",
   "execution_count": 98,
   "id": "901bd694",
   "metadata": {},
   "outputs": [
    {
     "data": {
      "text/plain": [
       "(9429, 11)"
      ]
     },
     "execution_count": 98,
     "metadata": {},
     "output_type": "execute_result"
    }
   ],
   "source": [
    "#dropping the rows where document for invoice is created before baseline carete date\n",
    "temp = pd.Series(test_dataset['document_create_date.1'] - test_dataset['baseline_create_date']).dt.days\n",
    "test_dataset = test_dataset[((temp==0) | (temp>0))].reset_index(drop=True)\n",
    "test_dataset.shape"
   ]
  },
  {
   "cell_type": "code",
   "execution_count": 99,
   "id": "388b6863",
   "metadata": {},
   "outputs": [],
   "source": [
    "test_dataset['due_term']=pd.Series(test_dataset['due_in_date'] - test_dataset['baseline_create_date']).dt.days"
   ]
  },
  {
   "cell_type": "code",
   "execution_count": 100,
   "id": "9c2e6965",
   "metadata": {},
   "outputs": [],
   "source": [
    "#changing the CAD amount to USD amount \n",
    "test_dataset.loc[test_dataset.invoice_currency == 'CAD', 'total_open_amount'] = 0.81*test_dataset['total_open_amount']"
   ]
  },
  {
   "cell_type": "code",
   "execution_count": 101,
   "id": "5cefd382",
   "metadata": {},
   "outputs": [],
   "source": [
    "#dropping invoice currency column as we dont need it anymore\n",
    "test_dataset = test_dataset.drop(columns=['invoice_currency'])"
   ]
  },
  {
   "cell_type": "code",
   "execution_count": 102,
   "id": "aeed45c8",
   "metadata": {},
   "outputs": [],
   "source": [
    "#renaming document type to document_type \n",
    "test_dataset.rename(columns={\"document type\":\"document_type\"}, inplace=True)"
   ]
  },
  {
   "cell_type": "code",
   "execution_count": 103,
   "id": "b8f45c40",
   "metadata": {},
   "outputs": [
    {
     "name": "stdout",
     "output_type": "stream",
     "text": [
      "<class 'pandas.core.frame.DataFrame'>\n",
      "RangeIndex: 9429 entries, 0 to 9428\n",
      "Data columns (total 11 columns):\n",
      " #   Column                  Non-Null Count  Dtype         \n",
      "---  ------                  --------------  -----         \n",
      " 0   business_code           9429 non-null   object        \n",
      " 1   cust_number             9429 non-null   object        \n",
      " 2   buisness_year           9429 non-null   int64         \n",
      " 3   posting_date            9429 non-null   datetime64[ns]\n",
      " 4   document_create_date.1  9429 non-null   datetime64[ns]\n",
      " 5   due_in_date             9429 non-null   datetime64[ns]\n",
      " 6   document_type           9429 non-null   object        \n",
      " 7   total_open_amount       9429 non-null   float64       \n",
      " 8   baseline_create_date    9429 non-null   datetime64[ns]\n",
      " 9   cust_payment_terms      9429 non-null   object        \n",
      " 10  due_term                9429 non-null   int64         \n",
      "dtypes: datetime64[ns](4), float64(1), int64(2), object(4)\n",
      "memory usage: 810.4+ KB\n"
     ]
    }
   ],
   "source": [
    "test_dataset.info()"
   ]
  },
  {
   "cell_type": "code",
   "execution_count": 104,
   "id": "285ee58e",
   "metadata": {},
   "outputs": [],
   "source": [
    "test_dataset['baseline_create_date_day'] = test_dataset['baseline_create_date'].dt.day\n",
    "test_dataset['due_in_date_day'] =test_dataset['due_in_date'].dt.day\n",
    "test_dataset['baseline_create_date_month'] = test_dataset['baseline_create_date'].dt.month\n",
    "test_dataset['due_in_date_month'] = test_dataset['due_in_date'].dt.month\n",
    "test_dataset['baseline_create_date_year'] = test_dataset['baseline_create_date'].dt.year\n",
    "test_dataset['due_in_date_year'] = test_dataset['due_in_date'].dt.year\n",
    "test_dataset['posting_date_day'] =test_dataset['posting_date'].dt.day\n",
    "test_dataset['posting_date_month'] = test_dataset['posting_date'].dt.month\n",
    "test_dataset['posting_date_year'] = test_dataset['posting_date'].dt.year\n",
    "test_dataset['document_create_date.1_day'] =test_dataset['document_create_date.1'].dt.day\n",
    "test_dataset['document_create_date.1_month'] = test_dataset['document_create_date.1'].dt.month\n",
    "test_dataset['document_create_date.1_year'] = test_dataset['document_create_date.1'].dt.year"
   ]
  },
  {
   "cell_type": "code",
   "execution_count": 105,
   "id": "61417fbc",
   "metadata": {},
   "outputs": [],
   "source": [
    "test_dataset =test_dataset.drop(columns = ['baseline_create_date'])\n",
    "test_dataset =test_dataset.drop(columns = ['due_in_date'])\n",
    "test_dataset =test_dataset.drop(columns = ['posting_date'])\n",
    "test_dataset =test_dataset.drop(columns = ['document_create_date.1'])"
   ]
  },
  {
   "cell_type": "code",
   "execution_count": 106,
   "id": "9eb0bc58",
   "metadata": {},
   "outputs": [
    {
     "data": {
      "text/plain": [
       "(9429, 19)"
      ]
     },
     "execution_count": 106,
     "metadata": {},
     "output_type": "execute_result"
    }
   ],
   "source": [
    "test_dataset.shape"
   ]
  },
  {
   "cell_type": "code",
   "execution_count": 107,
   "id": "c028634f",
   "metadata": {},
   "outputs": [
    {
     "name": "stdout",
     "output_type": "stream",
     "text": [
      "<class 'pandas.core.frame.DataFrame'>\n",
      "RangeIndex: 9429 entries, 0 to 9428\n",
      "Data columns (total 19 columns):\n",
      " #   Column                        Non-Null Count  Dtype  \n",
      "---  ------                        --------------  -----  \n",
      " 0   business_code                 9429 non-null   object \n",
      " 1   cust_number                   9429 non-null   object \n",
      " 2   buisness_year                 9429 non-null   int64  \n",
      " 3   document_type                 9429 non-null   object \n",
      " 4   total_open_amount             9429 non-null   float64\n",
      " 5   cust_payment_terms            9429 non-null   object \n",
      " 6   due_term                      9429 non-null   int64  \n",
      " 7   baseline_create_date_day      9429 non-null   int64  \n",
      " 8   due_in_date_day               9429 non-null   int64  \n",
      " 9   baseline_create_date_month    9429 non-null   int64  \n",
      " 10  due_in_date_month             9429 non-null   int64  \n",
      " 11  baseline_create_date_year     9429 non-null   int64  \n",
      " 12  due_in_date_year              9429 non-null   int64  \n",
      " 13  posting_date_day              9429 non-null   int64  \n",
      " 14  posting_date_month            9429 non-null   int64  \n",
      " 15  posting_date_year             9429 non-null   int64  \n",
      " 16  document_create_date.1_day    9429 non-null   int64  \n",
      " 17  document_create_date.1_month  9429 non-null   int64  \n",
      " 18  document_create_date.1_year   9429 non-null   int64  \n",
      "dtypes: float64(1), int64(14), object(4)\n",
      "memory usage: 1.4+ MB\n"
     ]
    }
   ],
   "source": [
    "test_dataset.info()"
   ]
  },
  {
   "cell_type": "code",
   "execution_count": 108,
   "id": "68c53066",
   "metadata": {},
   "outputs": [],
   "source": [
    "business_code_enc=LabelEncoder()\n",
    "business_code_enc.fit(test_dataset['business_code'])\n",
    "test_dataset['business_code_enc']=business_code_enc.transform(test_dataset['business_code'])\n",
    "test_dataset =test_dataset.drop(columns = ['business_code'])"
   ]
  },
  {
   "cell_type": "code",
   "execution_count": 109,
   "id": "9f39d85e",
   "metadata": {},
   "outputs": [
    {
     "data": {
      "text/plain": [
       "200769623    2773\n",
       "200726979     399\n",
       "200762301     384\n",
       "200744019     332\n",
       "200759878     329\n",
       "             ... \n",
       "100028450       1\n",
       "200728652       1\n",
       "200397176       1\n",
       "100059042       1\n",
       "200275253       1\n",
       "Name: cust_number, Length: 500, dtype: int64"
      ]
     },
     "execution_count": 109,
     "metadata": {},
     "output_type": "execute_result"
    }
   ],
   "source": [
    "test_dataset.cust_number.value_counts()"
   ]
  },
  {
   "cell_type": "code",
   "execution_count": 110,
   "id": "8ded31de",
   "metadata": {},
   "outputs": [],
   "source": [
    "# to extract the number from cust_number rows which are in string format eg CCCA01...\n",
    "test_dataset['cust_number'] = test_dataset['cust_number'].str.extract('(\\d+)')\n",
    "\n",
    "#type cast the cust_number calumn to int\n",
    "test_dataset['cust_number'] =test_dataset['cust_number'].astype(int)"
   ]
  },
  {
   "cell_type": "code",
   "execution_count": 111,
   "id": "4b6bc9bc",
   "metadata": {},
   "outputs": [],
   "source": [
    "cust_payment_terms_enc=LabelEncoder()\n",
    "cust_payment_terms_enc.fit(test_dataset['cust_payment_terms'])\n",
    "test_dataset['cust_payment_terms_enc']=cust_payment_terms_enc.transform(test_dataset['cust_payment_terms'])\n",
    "test_dataset =test_dataset.drop(columns = ['cust_payment_terms'])"
   ]
  },
  {
   "cell_type": "code",
   "execution_count": 112,
   "id": "f38cee4d",
   "metadata": {},
   "outputs": [],
   "source": [
    "document_type_enc = LabelEncoder()\n",
    "document_type_enc.fit(test_dataset[\"document_type\"])\n",
    "test_dataset[\"document_type_enc\"]=document_type_enc.transform(test_dataset[\"document_type\"])"
   ]
  },
  {
   "cell_type": "code",
   "execution_count": 113,
   "id": "bcf4bad0",
   "metadata": {},
   "outputs": [],
   "source": [
    "test_dataset =test_dataset.drop(columns = ['document_type'])"
   ]
  },
  {
   "cell_type": "code",
   "execution_count": 114,
   "id": "9b9952b2",
   "metadata": {},
   "outputs": [],
   "source": [
    "test_dataset =test_dataset.drop(columns = ['baseline_create_date_year'])\n",
    "test_dataset =test_dataset.drop(columns = ['posting_date_day'])\n",
    "test_dataset =test_dataset.drop(columns = ['posting_date_month'])\n",
    "test_dataset =test_dataset.drop(columns = ['posting_date_year'])"
   ]
  },
  {
   "cell_type": "code",
   "execution_count": 115,
   "id": "20ea769d",
   "metadata": {},
   "outputs": [
    {
     "name": "stdout",
     "output_type": "stream",
     "text": [
      "<class 'pandas.core.frame.DataFrame'>\n",
      "RangeIndex: 9429 entries, 0 to 9428\n",
      "Data columns (total 15 columns):\n",
      " #   Column                        Non-Null Count  Dtype  \n",
      "---  ------                        --------------  -----  \n",
      " 0   cust_number                   9429 non-null   int32  \n",
      " 1   buisness_year                 9429 non-null   int64  \n",
      " 2   total_open_amount             9429 non-null   float64\n",
      " 3   due_term                      9429 non-null   int64  \n",
      " 4   baseline_create_date_day      9429 non-null   int64  \n",
      " 5   due_in_date_day               9429 non-null   int64  \n",
      " 6   baseline_create_date_month    9429 non-null   int64  \n",
      " 7   due_in_date_month             9429 non-null   int64  \n",
      " 8   due_in_date_year              9429 non-null   int64  \n",
      " 9   document_create_date.1_day    9429 non-null   int64  \n",
      " 10  document_create_date.1_month  9429 non-null   int64  \n",
      " 11  document_create_date.1_year   9429 non-null   int64  \n",
      " 12  business_code_enc             9429 non-null   int32  \n",
      " 13  cust_payment_terms_enc        9429 non-null   int32  \n",
      " 14  document_type_enc             9429 non-null   int32  \n",
      "dtypes: float64(1), int32(4), int64(10)\n",
      "memory usage: 957.8 KB\n"
     ]
    }
   ],
   "source": [
    "test_dataset.info()"
   ]
  },
  {
   "cell_type": "code",
   "execution_count": 116,
   "id": "7943f71f",
   "metadata": {},
   "outputs": [
    {
     "name": "stdout",
     "output_type": "stream",
     "text": [
      "<class 'pandas.core.frame.DataFrame'>\n",
      "Int64Index: 25487 entries, 15293 to 2797\n",
      "Data columns (total 15 columns):\n",
      " #   Column                        Non-Null Count  Dtype  \n",
      "---  ------                        --------------  -----  \n",
      " 0   cust_number                   25487 non-null  int32  \n",
      " 1   buisness_year                 25487 non-null  int64  \n",
      " 2   total_open_amount             25487 non-null  float64\n",
      " 3   due_term                      25487 non-null  int64  \n",
      " 4   baseline_create_date_day      25487 non-null  int64  \n",
      " 5   due_in_date_day               25487 non-null  int64  \n",
      " 6   document_create_date.1_day    25487 non-null  int64  \n",
      " 7   baseline_create_date_month    25487 non-null  int64  \n",
      " 8   due_in_date_month             25487 non-null  int64  \n",
      " 9   document_create_date.1_month  25487 non-null  int64  \n",
      " 10  due_in_date_year              25487 non-null  int64  \n",
      " 11  document_create_date.1_year   25487 non-null  int64  \n",
      " 12  business_code_enc             25487 non-null  int32  \n",
      " 13  cust_payment_terms_enc        25487 non-null  int32  \n",
      " 14  document_type_enc             25487 non-null  int32  \n",
      "dtypes: float64(1), int32(4), int64(10)\n",
      "memory usage: 2.7 MB\n"
     ]
    }
   ],
   "source": [
    "X_train.info()"
   ]
  },
  {
   "cell_type": "markdown",
   "id": "eeb102b6",
   "metadata": {},
   "source": [
    "### Both the dataframes are having same number of columns"
   ]
  },
  {
   "cell_type": "markdown",
   "id": "f5da507e",
   "metadata": {},
   "source": [
    "# Final Prediction"
   ]
  },
  {
   "cell_type": "code",
   "execution_count": 117,
   "id": "7936c951",
   "metadata": {},
   "outputs": [
    {
     "name": "stdout",
     "output_type": "stream",
     "text": [
      "92.38 %\n"
     ]
    }
   ],
   "source": [
    "random_model=RandomForestRegressor()\n",
    "random_model.fit(X_train, y_train)\n",
    "\n",
    "prediction = random_model.predict(test_dataset)    # starting to predict\n",
    "\n",
    "#Checking the accuracy\n",
    "random_model_accuracy = round(random_model.score(X_train, y_train)*100,2)\n",
    "print(round(random_model_accuracy,2),'%')"
   ]
  },
  {
   "cell_type": "code",
   "execution_count": 118,
   "id": "e09ea7f3",
   "metadata": {},
   "outputs": [],
   "source": [
    "final_result = regressor.predict(test_dataset)"
   ]
  },
  {
   "cell_type": "code",
   "execution_count": 119,
   "id": "cdbd28f1",
   "metadata": {},
   "outputs": [],
   "source": [
    "final_result = pd.Series(final_result,name='Predicted_delay')"
   ]
  },
  {
   "cell_type": "code",
   "execution_count": 120,
   "id": "7dcf7821",
   "metadata": {},
   "outputs": [
    {
     "data": {
      "text/html": [
       "<div>\n",
       "<style scoped>\n",
       "    .dataframe tbody tr th:only-of-type {\n",
       "        vertical-align: middle;\n",
       "    }\n",
       "\n",
       "    .dataframe tbody tr th {\n",
       "        vertical-align: top;\n",
       "    }\n",
       "\n",
       "    .dataframe thead th {\n",
       "        text-align: right;\n",
       "    }\n",
       "</style>\n",
       "<table border=\"1\" class=\"dataframe\">\n",
       "  <thead>\n",
       "    <tr style=\"text-align: right;\">\n",
       "      <th></th>\n",
       "      <th>key_0</th>\n",
       "      <th>cust_number</th>\n",
       "      <th>buisness_year</th>\n",
       "      <th>total_open_amount</th>\n",
       "      <th>due_term</th>\n",
       "      <th>baseline_create_date_day</th>\n",
       "      <th>due_in_date_day</th>\n",
       "      <th>baseline_create_date_month</th>\n",
       "      <th>due_in_date_month</th>\n",
       "      <th>due_in_date_year</th>\n",
       "      <th>document_create_date.1_day</th>\n",
       "      <th>document_create_date.1_month</th>\n",
       "      <th>document_create_date.1_year</th>\n",
       "      <th>business_code_enc</th>\n",
       "      <th>cust_payment_terms_enc</th>\n",
       "      <th>document_type_enc</th>\n",
       "      <th>Predicted_delay</th>\n",
       "    </tr>\n",
       "  </thead>\n",
       "  <tbody>\n",
       "    <tr>\n",
       "      <th>0</th>\n",
       "      <td>0</td>\n",
       "      <td>200803720</td>\n",
       "      <td>2020</td>\n",
       "      <td>9755.78</td>\n",
       "      <td>7</td>\n",
       "      <td>16</td>\n",
       "      <td>23</td>\n",
       "      <td>4</td>\n",
       "      <td>4</td>\n",
       "      <td>2020</td>\n",
       "      <td>23</td>\n",
       "      <td>4</td>\n",
       "      <td>2020</td>\n",
       "      <td>1</td>\n",
       "      <td>29</td>\n",
       "      <td>0</td>\n",
       "      <td>1.043450</td>\n",
       "    </tr>\n",
       "    <tr>\n",
       "      <th>1</th>\n",
       "      <td>1</td>\n",
       "      <td>200769623</td>\n",
       "      <td>2020</td>\n",
       "      <td>13505.14</td>\n",
       "      <td>15</td>\n",
       "      <td>4</td>\n",
       "      <td>19</td>\n",
       "      <td>3</td>\n",
       "      <td>3</td>\n",
       "      <td>2020</td>\n",
       "      <td>4</td>\n",
       "      <td>3</td>\n",
       "      <td>2020</td>\n",
       "      <td>1</td>\n",
       "      <td>28</td>\n",
       "      <td>0</td>\n",
       "      <td>1.043450</td>\n",
       "    </tr>\n",
       "    <tr>\n",
       "      <th>2</th>\n",
       "      <td>2</td>\n",
       "      <td>200769623</td>\n",
       "      <td>2020</td>\n",
       "      <td>5496.44</td>\n",
       "      <td>15</td>\n",
       "      <td>29</td>\n",
       "      <td>15</td>\n",
       "      <td>2</td>\n",
       "      <td>3</td>\n",
       "      <td>2020</td>\n",
       "      <td>29</td>\n",
       "      <td>2</td>\n",
       "      <td>2020</td>\n",
       "      <td>1</td>\n",
       "      <td>28</td>\n",
       "      <td>0</td>\n",
       "      <td>1.043450</td>\n",
       "    </tr>\n",
       "    <tr>\n",
       "      <th>3</th>\n",
       "      <td>3</td>\n",
       "      <td>200769623</td>\n",
       "      <td>2020</td>\n",
       "      <td>71674.10</td>\n",
       "      <td>15</td>\n",
       "      <td>12</td>\n",
       "      <td>27</td>\n",
       "      <td>4</td>\n",
       "      <td>4</td>\n",
       "      <td>2020</td>\n",
       "      <td>12</td>\n",
       "      <td>4</td>\n",
       "      <td>2020</td>\n",
       "      <td>1</td>\n",
       "      <td>28</td>\n",
       "      <td>0</td>\n",
       "      <td>1.043450</td>\n",
       "    </tr>\n",
       "    <tr>\n",
       "      <th>4</th>\n",
       "      <td>4</td>\n",
       "      <td>200780383</td>\n",
       "      <td>2020</td>\n",
       "      <td>20276.74</td>\n",
       "      <td>15</td>\n",
       "      <td>14</td>\n",
       "      <td>29</td>\n",
       "      <td>4</td>\n",
       "      <td>4</td>\n",
       "      <td>2020</td>\n",
       "      <td>14</td>\n",
       "      <td>4</td>\n",
       "      <td>2020</td>\n",
       "      <td>1</td>\n",
       "      <td>15</td>\n",
       "      <td>0</td>\n",
       "      <td>1.043450</td>\n",
       "    </tr>\n",
       "    <tr>\n",
       "      <th>...</th>\n",
       "      <td>...</td>\n",
       "      <td>...</td>\n",
       "      <td>...</td>\n",
       "      <td>...</td>\n",
       "      <td>...</td>\n",
       "      <td>...</td>\n",
       "      <td>...</td>\n",
       "      <td>...</td>\n",
       "      <td>...</td>\n",
       "      <td>...</td>\n",
       "      <td>...</td>\n",
       "      <td>...</td>\n",
       "      <td>...</td>\n",
       "      <td>...</td>\n",
       "      <td>...</td>\n",
       "      <td>...</td>\n",
       "      <td>...</td>\n",
       "    </tr>\n",
       "    <tr>\n",
       "      <th>9424</th>\n",
       "      <td>9424</td>\n",
       "      <td>200418007</td>\n",
       "      <td>2020</td>\n",
       "      <td>20.40</td>\n",
       "      <td>15</td>\n",
       "      <td>1</td>\n",
       "      <td>16</td>\n",
       "      <td>5</td>\n",
       "      <td>5</td>\n",
       "      <td>2020</td>\n",
       "      <td>1</td>\n",
       "      <td>5</td>\n",
       "      <td>2020</td>\n",
       "      <td>1</td>\n",
       "      <td>15</td>\n",
       "      <td>0</td>\n",
       "      <td>1.043450</td>\n",
       "    </tr>\n",
       "    <tr>\n",
       "      <th>9425</th>\n",
       "      <td>9425</td>\n",
       "      <td>200777735</td>\n",
       "      <td>2020</td>\n",
       "      <td>104647.12</td>\n",
       "      <td>15</td>\n",
       "      <td>19</td>\n",
       "      <td>3</td>\n",
       "      <td>3</td>\n",
       "      <td>4</td>\n",
       "      <td>2020</td>\n",
       "      <td>19</td>\n",
       "      <td>3</td>\n",
       "      <td>2020</td>\n",
       "      <td>1</td>\n",
       "      <td>15</td>\n",
       "      <td>0</td>\n",
       "      <td>1.043450</td>\n",
       "    </tr>\n",
       "    <tr>\n",
       "      <th>9426</th>\n",
       "      <td>9426</td>\n",
       "      <td>200418007</td>\n",
       "      <td>2020</td>\n",
       "      <td>2084.16</td>\n",
       "      <td>15</td>\n",
       "      <td>30</td>\n",
       "      <td>15</td>\n",
       "      <td>4</td>\n",
       "      <td>5</td>\n",
       "      <td>2020</td>\n",
       "      <td>30</td>\n",
       "      <td>4</td>\n",
       "      <td>2020</td>\n",
       "      <td>1</td>\n",
       "      <td>15</td>\n",
       "      <td>0</td>\n",
       "      <td>1.043450</td>\n",
       "    </tr>\n",
       "    <tr>\n",
       "      <th>9427</th>\n",
       "      <td>9427</td>\n",
       "      <td>200936373</td>\n",
       "      <td>2020</td>\n",
       "      <td>15.22</td>\n",
       "      <td>15</td>\n",
       "      <td>3</td>\n",
       "      <td>18</td>\n",
       "      <td>3</td>\n",
       "      <td>3</td>\n",
       "      <td>2020</td>\n",
       "      <td>3</td>\n",
       "      <td>3</td>\n",
       "      <td>2020</td>\n",
       "      <td>1</td>\n",
       "      <td>43</td>\n",
       "      <td>0</td>\n",
       "      <td>-1.574138</td>\n",
       "    </tr>\n",
       "    <tr>\n",
       "      <th>9428</th>\n",
       "      <td>9428</td>\n",
       "      <td>200148860</td>\n",
       "      <td>2020</td>\n",
       "      <td>91560.26</td>\n",
       "      <td>15</td>\n",
       "      <td>12</td>\n",
       "      <td>27</td>\n",
       "      <td>4</td>\n",
       "      <td>4</td>\n",
       "      <td>2020</td>\n",
       "      <td>12</td>\n",
       "      <td>4</td>\n",
       "      <td>2020</td>\n",
       "      <td>1</td>\n",
       "      <td>15</td>\n",
       "      <td>0</td>\n",
       "      <td>1.043450</td>\n",
       "    </tr>\n",
       "  </tbody>\n",
       "</table>\n",
       "<p>9429 rows × 17 columns</p>\n",
       "</div>"
      ],
      "text/plain": [
       "      key_0  cust_number  buisness_year  total_open_amount  due_term  \\\n",
       "0         0    200803720           2020            9755.78         7   \n",
       "1         1    200769623           2020           13505.14        15   \n",
       "2         2    200769623           2020            5496.44        15   \n",
       "3         3    200769623           2020           71674.10        15   \n",
       "4         4    200780383           2020           20276.74        15   \n",
       "...     ...          ...            ...                ...       ...   \n",
       "9424   9424    200418007           2020              20.40        15   \n",
       "9425   9425    200777735           2020          104647.12        15   \n",
       "9426   9426    200418007           2020            2084.16        15   \n",
       "9427   9427    200936373           2020              15.22        15   \n",
       "9428   9428    200148860           2020           91560.26        15   \n",
       "\n",
       "      baseline_create_date_day  due_in_date_day  baseline_create_date_month  \\\n",
       "0                           16               23                           4   \n",
       "1                            4               19                           3   \n",
       "2                           29               15                           2   \n",
       "3                           12               27                           4   \n",
       "4                           14               29                           4   \n",
       "...                        ...              ...                         ...   \n",
       "9424                         1               16                           5   \n",
       "9425                        19                3                           3   \n",
       "9426                        30               15                           4   \n",
       "9427                         3               18                           3   \n",
       "9428                        12               27                           4   \n",
       "\n",
       "      due_in_date_month  due_in_date_year  document_create_date.1_day  \\\n",
       "0                     4              2020                          23   \n",
       "1                     3              2020                           4   \n",
       "2                     3              2020                          29   \n",
       "3                     4              2020                          12   \n",
       "4                     4              2020                          14   \n",
       "...                 ...               ...                         ...   \n",
       "9424                  5              2020                           1   \n",
       "9425                  4              2020                          19   \n",
       "9426                  5              2020                          30   \n",
       "9427                  3              2020                           3   \n",
       "9428                  4              2020                          12   \n",
       "\n",
       "      document_create_date.1_month  document_create_date.1_year  \\\n",
       "0                                4                         2020   \n",
       "1                                3                         2020   \n",
       "2                                2                         2020   \n",
       "3                                4                         2020   \n",
       "4                                4                         2020   \n",
       "...                            ...                          ...   \n",
       "9424                             5                         2020   \n",
       "9425                             3                         2020   \n",
       "9426                             4                         2020   \n",
       "9427                             3                         2020   \n",
       "9428                             4                         2020   \n",
       "\n",
       "      business_code_enc  cust_payment_terms_enc  document_type_enc  \\\n",
       "0                     1                      29                  0   \n",
       "1                     1                      28                  0   \n",
       "2                     1                      28                  0   \n",
       "3                     1                      28                  0   \n",
       "4                     1                      15                  0   \n",
       "...                 ...                     ...                ...   \n",
       "9424                  1                      15                  0   \n",
       "9425                  1                      15                  0   \n",
       "9426                  1                      15                  0   \n",
       "9427                  1                      43                  0   \n",
       "9428                  1                      15                  0   \n",
       "\n",
       "      Predicted_delay  \n",
       "0            1.043450  \n",
       "1            1.043450  \n",
       "2            1.043450  \n",
       "3            1.043450  \n",
       "4            1.043450  \n",
       "...               ...  \n",
       "9424         1.043450  \n",
       "9425         1.043450  \n",
       "9426         1.043450  \n",
       "9427        -1.574138  \n",
       "9428         1.043450  \n",
       "\n",
       "[9429 rows x 17 columns]"
      ]
     },
     "execution_count": 120,
     "metadata": {},
     "output_type": "execute_result"
    }
   ],
   "source": [
    "#merging the target column and the training dataset column.\n",
    "Final = test_dataset.merge(final_result , on = test_dataset.index )\n",
    "Final"
   ]
  },
  {
   "cell_type": "code",
   "execution_count": 121,
   "id": "4e8f67cb",
   "metadata": {},
   "outputs": [
    {
     "data": {
      "text/html": [
       "<div>\n",
       "<style scoped>\n",
       "    .dataframe tbody tr th:only-of-type {\n",
       "        vertical-align: middle;\n",
       "    }\n",
       "\n",
       "    .dataframe tbody tr th {\n",
       "        vertical-align: top;\n",
       "    }\n",
       "\n",
       "    .dataframe thead th {\n",
       "        text-align: right;\n",
       "    }\n",
       "</style>\n",
       "<table border=\"1\" class=\"dataframe\">\n",
       "  <thead>\n",
       "    <tr style=\"text-align: right;\">\n",
       "      <th></th>\n",
       "      <th>key_0</th>\n",
       "      <th>cust_number</th>\n",
       "      <th>buisness_year</th>\n",
       "      <th>total_open_amount</th>\n",
       "      <th>due_term</th>\n",
       "      <th>baseline_create_date_day</th>\n",
       "      <th>due_in_date_day</th>\n",
       "      <th>baseline_create_date_month</th>\n",
       "      <th>due_in_date_month</th>\n",
       "      <th>due_in_date_year</th>\n",
       "      <th>document_create_date.1_day</th>\n",
       "      <th>document_create_date.1_month</th>\n",
       "      <th>document_create_date.1_year</th>\n",
       "      <th>business_code_enc</th>\n",
       "      <th>cust_payment_terms_enc</th>\n",
       "      <th>document_type_enc</th>\n",
       "      <th>Predicted_delay</th>\n",
       "    </tr>\n",
       "  </thead>\n",
       "  <tbody>\n",
       "    <tr>\n",
       "      <th>0</th>\n",
       "      <td>0</td>\n",
       "      <td>200803720</td>\n",
       "      <td>2020</td>\n",
       "      <td>9755.78</td>\n",
       "      <td>7</td>\n",
       "      <td>16</td>\n",
       "      <td>23</td>\n",
       "      <td>4</td>\n",
       "      <td>4</td>\n",
       "      <td>2020</td>\n",
       "      <td>23</td>\n",
       "      <td>4</td>\n",
       "      <td>2020</td>\n",
       "      <td>1</td>\n",
       "      <td>29</td>\n",
       "      <td>0</td>\n",
       "      <td>1</td>\n",
       "    </tr>\n",
       "    <tr>\n",
       "      <th>1</th>\n",
       "      <td>1</td>\n",
       "      <td>200769623</td>\n",
       "      <td>2020</td>\n",
       "      <td>13505.14</td>\n",
       "      <td>15</td>\n",
       "      <td>4</td>\n",
       "      <td>19</td>\n",
       "      <td>3</td>\n",
       "      <td>3</td>\n",
       "      <td>2020</td>\n",
       "      <td>4</td>\n",
       "      <td>3</td>\n",
       "      <td>2020</td>\n",
       "      <td>1</td>\n",
       "      <td>28</td>\n",
       "      <td>0</td>\n",
       "      <td>1</td>\n",
       "    </tr>\n",
       "    <tr>\n",
       "      <th>2</th>\n",
       "      <td>2</td>\n",
       "      <td>200769623</td>\n",
       "      <td>2020</td>\n",
       "      <td>5496.44</td>\n",
       "      <td>15</td>\n",
       "      <td>29</td>\n",
       "      <td>15</td>\n",
       "      <td>2</td>\n",
       "      <td>3</td>\n",
       "      <td>2020</td>\n",
       "      <td>29</td>\n",
       "      <td>2</td>\n",
       "      <td>2020</td>\n",
       "      <td>1</td>\n",
       "      <td>28</td>\n",
       "      <td>0</td>\n",
       "      <td>1</td>\n",
       "    </tr>\n",
       "    <tr>\n",
       "      <th>3</th>\n",
       "      <td>3</td>\n",
       "      <td>200769623</td>\n",
       "      <td>2020</td>\n",
       "      <td>71674.10</td>\n",
       "      <td>15</td>\n",
       "      <td>12</td>\n",
       "      <td>27</td>\n",
       "      <td>4</td>\n",
       "      <td>4</td>\n",
       "      <td>2020</td>\n",
       "      <td>12</td>\n",
       "      <td>4</td>\n",
       "      <td>2020</td>\n",
       "      <td>1</td>\n",
       "      <td>28</td>\n",
       "      <td>0</td>\n",
       "      <td>1</td>\n",
       "    </tr>\n",
       "    <tr>\n",
       "      <th>4</th>\n",
       "      <td>4</td>\n",
       "      <td>200780383</td>\n",
       "      <td>2020</td>\n",
       "      <td>20276.74</td>\n",
       "      <td>15</td>\n",
       "      <td>14</td>\n",
       "      <td>29</td>\n",
       "      <td>4</td>\n",
       "      <td>4</td>\n",
       "      <td>2020</td>\n",
       "      <td>14</td>\n",
       "      <td>4</td>\n",
       "      <td>2020</td>\n",
       "      <td>1</td>\n",
       "      <td>15</td>\n",
       "      <td>0</td>\n",
       "      <td>1</td>\n",
       "    </tr>\n",
       "    <tr>\n",
       "      <th>...</th>\n",
       "      <td>...</td>\n",
       "      <td>...</td>\n",
       "      <td>...</td>\n",
       "      <td>...</td>\n",
       "      <td>...</td>\n",
       "      <td>...</td>\n",
       "      <td>...</td>\n",
       "      <td>...</td>\n",
       "      <td>...</td>\n",
       "      <td>...</td>\n",
       "      <td>...</td>\n",
       "      <td>...</td>\n",
       "      <td>...</td>\n",
       "      <td>...</td>\n",
       "      <td>...</td>\n",
       "      <td>...</td>\n",
       "      <td>...</td>\n",
       "    </tr>\n",
       "    <tr>\n",
       "      <th>9424</th>\n",
       "      <td>9424</td>\n",
       "      <td>200418007</td>\n",
       "      <td>2020</td>\n",
       "      <td>20.40</td>\n",
       "      <td>15</td>\n",
       "      <td>1</td>\n",
       "      <td>16</td>\n",
       "      <td>5</td>\n",
       "      <td>5</td>\n",
       "      <td>2020</td>\n",
       "      <td>1</td>\n",
       "      <td>5</td>\n",
       "      <td>2020</td>\n",
       "      <td>1</td>\n",
       "      <td>15</td>\n",
       "      <td>0</td>\n",
       "      <td>1</td>\n",
       "    </tr>\n",
       "    <tr>\n",
       "      <th>9425</th>\n",
       "      <td>9425</td>\n",
       "      <td>200777735</td>\n",
       "      <td>2020</td>\n",
       "      <td>104647.12</td>\n",
       "      <td>15</td>\n",
       "      <td>19</td>\n",
       "      <td>3</td>\n",
       "      <td>3</td>\n",
       "      <td>4</td>\n",
       "      <td>2020</td>\n",
       "      <td>19</td>\n",
       "      <td>3</td>\n",
       "      <td>2020</td>\n",
       "      <td>1</td>\n",
       "      <td>15</td>\n",
       "      <td>0</td>\n",
       "      <td>1</td>\n",
       "    </tr>\n",
       "    <tr>\n",
       "      <th>9426</th>\n",
       "      <td>9426</td>\n",
       "      <td>200418007</td>\n",
       "      <td>2020</td>\n",
       "      <td>2084.16</td>\n",
       "      <td>15</td>\n",
       "      <td>30</td>\n",
       "      <td>15</td>\n",
       "      <td>4</td>\n",
       "      <td>5</td>\n",
       "      <td>2020</td>\n",
       "      <td>30</td>\n",
       "      <td>4</td>\n",
       "      <td>2020</td>\n",
       "      <td>1</td>\n",
       "      <td>15</td>\n",
       "      <td>0</td>\n",
       "      <td>1</td>\n",
       "    </tr>\n",
       "    <tr>\n",
       "      <th>9427</th>\n",
       "      <td>9427</td>\n",
       "      <td>200936373</td>\n",
       "      <td>2020</td>\n",
       "      <td>15.22</td>\n",
       "      <td>15</td>\n",
       "      <td>3</td>\n",
       "      <td>18</td>\n",
       "      <td>3</td>\n",
       "      <td>3</td>\n",
       "      <td>2020</td>\n",
       "      <td>3</td>\n",
       "      <td>3</td>\n",
       "      <td>2020</td>\n",
       "      <td>1</td>\n",
       "      <td>43</td>\n",
       "      <td>0</td>\n",
       "      <td>-1</td>\n",
       "    </tr>\n",
       "    <tr>\n",
       "      <th>9428</th>\n",
       "      <td>9428</td>\n",
       "      <td>200148860</td>\n",
       "      <td>2020</td>\n",
       "      <td>91560.26</td>\n",
       "      <td>15</td>\n",
       "      <td>12</td>\n",
       "      <td>27</td>\n",
       "      <td>4</td>\n",
       "      <td>4</td>\n",
       "      <td>2020</td>\n",
       "      <td>12</td>\n",
       "      <td>4</td>\n",
       "      <td>2020</td>\n",
       "      <td>1</td>\n",
       "      <td>15</td>\n",
       "      <td>0</td>\n",
       "      <td>1</td>\n",
       "    </tr>\n",
       "  </tbody>\n",
       "</table>\n",
       "<p>9429 rows × 17 columns</p>\n",
       "</div>"
      ],
      "text/plain": [
       "      key_0  cust_number  buisness_year  total_open_amount  due_term  \\\n",
       "0         0    200803720           2020            9755.78         7   \n",
       "1         1    200769623           2020           13505.14        15   \n",
       "2         2    200769623           2020            5496.44        15   \n",
       "3         3    200769623           2020           71674.10        15   \n",
       "4         4    200780383           2020           20276.74        15   \n",
       "...     ...          ...            ...                ...       ...   \n",
       "9424   9424    200418007           2020              20.40        15   \n",
       "9425   9425    200777735           2020          104647.12        15   \n",
       "9426   9426    200418007           2020            2084.16        15   \n",
       "9427   9427    200936373           2020              15.22        15   \n",
       "9428   9428    200148860           2020           91560.26        15   \n",
       "\n",
       "      baseline_create_date_day  due_in_date_day  baseline_create_date_month  \\\n",
       "0                           16               23                           4   \n",
       "1                            4               19                           3   \n",
       "2                           29               15                           2   \n",
       "3                           12               27                           4   \n",
       "4                           14               29                           4   \n",
       "...                        ...              ...                         ...   \n",
       "9424                         1               16                           5   \n",
       "9425                        19                3                           3   \n",
       "9426                        30               15                           4   \n",
       "9427                         3               18                           3   \n",
       "9428                        12               27                           4   \n",
       "\n",
       "      due_in_date_month  due_in_date_year  document_create_date.1_day  \\\n",
       "0                     4              2020                          23   \n",
       "1                     3              2020                           4   \n",
       "2                     3              2020                          29   \n",
       "3                     4              2020                          12   \n",
       "4                     4              2020                          14   \n",
       "...                 ...               ...                         ...   \n",
       "9424                  5              2020                           1   \n",
       "9425                  4              2020                          19   \n",
       "9426                  5              2020                          30   \n",
       "9427                  3              2020                           3   \n",
       "9428                  4              2020                          12   \n",
       "\n",
       "      document_create_date.1_month  document_create_date.1_year  \\\n",
       "0                                4                         2020   \n",
       "1                                3                         2020   \n",
       "2                                2                         2020   \n",
       "3                                4                         2020   \n",
       "4                                4                         2020   \n",
       "...                            ...                          ...   \n",
       "9424                             5                         2020   \n",
       "9425                             3                         2020   \n",
       "9426                             4                         2020   \n",
       "9427                             3                         2020   \n",
       "9428                             4                         2020   \n",
       "\n",
       "      business_code_enc  cust_payment_terms_enc  document_type_enc  \\\n",
       "0                     1                      29                  0   \n",
       "1                     1                      28                  0   \n",
       "2                     1                      28                  0   \n",
       "3                     1                      28                  0   \n",
       "4                     1                      15                  0   \n",
       "...                 ...                     ...                ...   \n",
       "9424                  1                      15                  0   \n",
       "9425                  1                      15                  0   \n",
       "9426                  1                      15                  0   \n",
       "9427                  1                      43                  0   \n",
       "9428                  1                      15                  0   \n",
       "\n",
       "      Predicted_delay  \n",
       "0                   1  \n",
       "1                   1  \n",
       "2                   1  \n",
       "3                   1  \n",
       "4                   1  \n",
       "...               ...  \n",
       "9424                1  \n",
       "9425                1  \n",
       "9426                1  \n",
       "9427               -1  \n",
       "9428                1  \n",
       "\n",
       "[9429 rows x 17 columns]"
      ]
     },
     "execution_count": 121,
     "metadata": {},
     "output_type": "execute_result"
    }
   ],
   "source": [
    "#changing the datatype of the Predicted_delay as it is giving float values\n",
    "Final[\"Predicted_delay\"]=Final[\"Predicted_delay\"].astype(int)\n",
    "Final"
   ]
  },
  {
   "cell_type": "code",
   "execution_count": 122,
   "id": "f9108842",
   "metadata": {},
   "outputs": [],
   "source": [
    "#making the due_in_date for adding the predicted delay for the final output.\n",
    "Final['dateInt']=Final['due_in_date_year'].astype(str) + Final['due_in_date_month'].astype(str).str.zfill(2)+ Final['due_in_date_day'].astype(str).str.zfill(2)\n",
    "Final['due_in_date'] = pd.to_datetime(Final['dateInt'], format='%Y%m%d')\n",
    "Final =Final.drop(columns = ['dateInt'])"
   ]
  },
  {
   "cell_type": "code",
   "execution_count": 123,
   "id": "fd18b8c5",
   "metadata": {},
   "outputs": [
    {
     "data": {
      "text/html": [
       "<div>\n",
       "<style scoped>\n",
       "    .dataframe tbody tr th:only-of-type {\n",
       "        vertical-align: middle;\n",
       "    }\n",
       "\n",
       "    .dataframe tbody tr th {\n",
       "        vertical-align: top;\n",
       "    }\n",
       "\n",
       "    .dataframe thead th {\n",
       "        text-align: right;\n",
       "    }\n",
       "</style>\n",
       "<table border=\"1\" class=\"dataframe\">\n",
       "  <thead>\n",
       "    <tr style=\"text-align: right;\">\n",
       "      <th></th>\n",
       "      <th>key_0</th>\n",
       "      <th>cust_number</th>\n",
       "      <th>buisness_year</th>\n",
       "      <th>total_open_amount</th>\n",
       "      <th>due_term</th>\n",
       "      <th>baseline_create_date_day</th>\n",
       "      <th>due_in_date_day</th>\n",
       "      <th>baseline_create_date_month</th>\n",
       "      <th>due_in_date_month</th>\n",
       "      <th>due_in_date_year</th>\n",
       "      <th>document_create_date.1_day</th>\n",
       "      <th>document_create_date.1_month</th>\n",
       "      <th>document_create_date.1_year</th>\n",
       "      <th>business_code_enc</th>\n",
       "      <th>cust_payment_terms_enc</th>\n",
       "      <th>document_type_enc</th>\n",
       "      <th>Predicted_delay</th>\n",
       "      <th>due_in_date</th>\n",
       "    </tr>\n",
       "  </thead>\n",
       "  <tbody>\n",
       "    <tr>\n",
       "      <th>0</th>\n",
       "      <td>0</td>\n",
       "      <td>200803720</td>\n",
       "      <td>2020</td>\n",
       "      <td>9755.78</td>\n",
       "      <td>7</td>\n",
       "      <td>16</td>\n",
       "      <td>23</td>\n",
       "      <td>4</td>\n",
       "      <td>4</td>\n",
       "      <td>2020</td>\n",
       "      <td>23</td>\n",
       "      <td>4</td>\n",
       "      <td>2020</td>\n",
       "      <td>1</td>\n",
       "      <td>29</td>\n",
       "      <td>0</td>\n",
       "      <td>1</td>\n",
       "      <td>2020-04-23</td>\n",
       "    </tr>\n",
       "    <tr>\n",
       "      <th>1</th>\n",
       "      <td>1</td>\n",
       "      <td>200769623</td>\n",
       "      <td>2020</td>\n",
       "      <td>13505.14</td>\n",
       "      <td>15</td>\n",
       "      <td>4</td>\n",
       "      <td>19</td>\n",
       "      <td>3</td>\n",
       "      <td>3</td>\n",
       "      <td>2020</td>\n",
       "      <td>4</td>\n",
       "      <td>3</td>\n",
       "      <td>2020</td>\n",
       "      <td>1</td>\n",
       "      <td>28</td>\n",
       "      <td>0</td>\n",
       "      <td>1</td>\n",
       "      <td>2020-03-19</td>\n",
       "    </tr>\n",
       "    <tr>\n",
       "      <th>2</th>\n",
       "      <td>2</td>\n",
       "      <td>200769623</td>\n",
       "      <td>2020</td>\n",
       "      <td>5496.44</td>\n",
       "      <td>15</td>\n",
       "      <td>29</td>\n",
       "      <td>15</td>\n",
       "      <td>2</td>\n",
       "      <td>3</td>\n",
       "      <td>2020</td>\n",
       "      <td>29</td>\n",
       "      <td>2</td>\n",
       "      <td>2020</td>\n",
       "      <td>1</td>\n",
       "      <td>28</td>\n",
       "      <td>0</td>\n",
       "      <td>1</td>\n",
       "      <td>2020-03-15</td>\n",
       "    </tr>\n",
       "    <tr>\n",
       "      <th>3</th>\n",
       "      <td>3</td>\n",
       "      <td>200769623</td>\n",
       "      <td>2020</td>\n",
       "      <td>71674.10</td>\n",
       "      <td>15</td>\n",
       "      <td>12</td>\n",
       "      <td>27</td>\n",
       "      <td>4</td>\n",
       "      <td>4</td>\n",
       "      <td>2020</td>\n",
       "      <td>12</td>\n",
       "      <td>4</td>\n",
       "      <td>2020</td>\n",
       "      <td>1</td>\n",
       "      <td>28</td>\n",
       "      <td>0</td>\n",
       "      <td>1</td>\n",
       "      <td>2020-04-27</td>\n",
       "    </tr>\n",
       "    <tr>\n",
       "      <th>4</th>\n",
       "      <td>4</td>\n",
       "      <td>200780383</td>\n",
       "      <td>2020</td>\n",
       "      <td>20276.74</td>\n",
       "      <td>15</td>\n",
       "      <td>14</td>\n",
       "      <td>29</td>\n",
       "      <td>4</td>\n",
       "      <td>4</td>\n",
       "      <td>2020</td>\n",
       "      <td>14</td>\n",
       "      <td>4</td>\n",
       "      <td>2020</td>\n",
       "      <td>1</td>\n",
       "      <td>15</td>\n",
       "      <td>0</td>\n",
       "      <td>1</td>\n",
       "      <td>2020-04-29</td>\n",
       "    </tr>\n",
       "    <tr>\n",
       "      <th>...</th>\n",
       "      <td>...</td>\n",
       "      <td>...</td>\n",
       "      <td>...</td>\n",
       "      <td>...</td>\n",
       "      <td>...</td>\n",
       "      <td>...</td>\n",
       "      <td>...</td>\n",
       "      <td>...</td>\n",
       "      <td>...</td>\n",
       "      <td>...</td>\n",
       "      <td>...</td>\n",
       "      <td>...</td>\n",
       "      <td>...</td>\n",
       "      <td>...</td>\n",
       "      <td>...</td>\n",
       "      <td>...</td>\n",
       "      <td>...</td>\n",
       "      <td>...</td>\n",
       "    </tr>\n",
       "    <tr>\n",
       "      <th>9424</th>\n",
       "      <td>9424</td>\n",
       "      <td>200418007</td>\n",
       "      <td>2020</td>\n",
       "      <td>20.40</td>\n",
       "      <td>15</td>\n",
       "      <td>1</td>\n",
       "      <td>16</td>\n",
       "      <td>5</td>\n",
       "      <td>5</td>\n",
       "      <td>2020</td>\n",
       "      <td>1</td>\n",
       "      <td>5</td>\n",
       "      <td>2020</td>\n",
       "      <td>1</td>\n",
       "      <td>15</td>\n",
       "      <td>0</td>\n",
       "      <td>1</td>\n",
       "      <td>2020-05-16</td>\n",
       "    </tr>\n",
       "    <tr>\n",
       "      <th>9425</th>\n",
       "      <td>9425</td>\n",
       "      <td>200777735</td>\n",
       "      <td>2020</td>\n",
       "      <td>104647.12</td>\n",
       "      <td>15</td>\n",
       "      <td>19</td>\n",
       "      <td>3</td>\n",
       "      <td>3</td>\n",
       "      <td>4</td>\n",
       "      <td>2020</td>\n",
       "      <td>19</td>\n",
       "      <td>3</td>\n",
       "      <td>2020</td>\n",
       "      <td>1</td>\n",
       "      <td>15</td>\n",
       "      <td>0</td>\n",
       "      <td>1</td>\n",
       "      <td>2020-04-03</td>\n",
       "    </tr>\n",
       "    <tr>\n",
       "      <th>9426</th>\n",
       "      <td>9426</td>\n",
       "      <td>200418007</td>\n",
       "      <td>2020</td>\n",
       "      <td>2084.16</td>\n",
       "      <td>15</td>\n",
       "      <td>30</td>\n",
       "      <td>15</td>\n",
       "      <td>4</td>\n",
       "      <td>5</td>\n",
       "      <td>2020</td>\n",
       "      <td>30</td>\n",
       "      <td>4</td>\n",
       "      <td>2020</td>\n",
       "      <td>1</td>\n",
       "      <td>15</td>\n",
       "      <td>0</td>\n",
       "      <td>1</td>\n",
       "      <td>2020-05-15</td>\n",
       "    </tr>\n",
       "    <tr>\n",
       "      <th>9427</th>\n",
       "      <td>9427</td>\n",
       "      <td>200936373</td>\n",
       "      <td>2020</td>\n",
       "      <td>15.22</td>\n",
       "      <td>15</td>\n",
       "      <td>3</td>\n",
       "      <td>18</td>\n",
       "      <td>3</td>\n",
       "      <td>3</td>\n",
       "      <td>2020</td>\n",
       "      <td>3</td>\n",
       "      <td>3</td>\n",
       "      <td>2020</td>\n",
       "      <td>1</td>\n",
       "      <td>43</td>\n",
       "      <td>0</td>\n",
       "      <td>-1</td>\n",
       "      <td>2020-03-18</td>\n",
       "    </tr>\n",
       "    <tr>\n",
       "      <th>9428</th>\n",
       "      <td>9428</td>\n",
       "      <td>200148860</td>\n",
       "      <td>2020</td>\n",
       "      <td>91560.26</td>\n",
       "      <td>15</td>\n",
       "      <td>12</td>\n",
       "      <td>27</td>\n",
       "      <td>4</td>\n",
       "      <td>4</td>\n",
       "      <td>2020</td>\n",
       "      <td>12</td>\n",
       "      <td>4</td>\n",
       "      <td>2020</td>\n",
       "      <td>1</td>\n",
       "      <td>15</td>\n",
       "      <td>0</td>\n",
       "      <td>1</td>\n",
       "      <td>2020-04-27</td>\n",
       "    </tr>\n",
       "  </tbody>\n",
       "</table>\n",
       "<p>9429 rows × 18 columns</p>\n",
       "</div>"
      ],
      "text/plain": [
       "      key_0  cust_number  buisness_year  total_open_amount  due_term  \\\n",
       "0         0    200803720           2020            9755.78         7   \n",
       "1         1    200769623           2020           13505.14        15   \n",
       "2         2    200769623           2020            5496.44        15   \n",
       "3         3    200769623           2020           71674.10        15   \n",
       "4         4    200780383           2020           20276.74        15   \n",
       "...     ...          ...            ...                ...       ...   \n",
       "9424   9424    200418007           2020              20.40        15   \n",
       "9425   9425    200777735           2020          104647.12        15   \n",
       "9426   9426    200418007           2020            2084.16        15   \n",
       "9427   9427    200936373           2020              15.22        15   \n",
       "9428   9428    200148860           2020           91560.26        15   \n",
       "\n",
       "      baseline_create_date_day  due_in_date_day  baseline_create_date_month  \\\n",
       "0                           16               23                           4   \n",
       "1                            4               19                           3   \n",
       "2                           29               15                           2   \n",
       "3                           12               27                           4   \n",
       "4                           14               29                           4   \n",
       "...                        ...              ...                         ...   \n",
       "9424                         1               16                           5   \n",
       "9425                        19                3                           3   \n",
       "9426                        30               15                           4   \n",
       "9427                         3               18                           3   \n",
       "9428                        12               27                           4   \n",
       "\n",
       "      due_in_date_month  due_in_date_year  document_create_date.1_day  \\\n",
       "0                     4              2020                          23   \n",
       "1                     3              2020                           4   \n",
       "2                     3              2020                          29   \n",
       "3                     4              2020                          12   \n",
       "4                     4              2020                          14   \n",
       "...                 ...               ...                         ...   \n",
       "9424                  5              2020                           1   \n",
       "9425                  4              2020                          19   \n",
       "9426                  5              2020                          30   \n",
       "9427                  3              2020                           3   \n",
       "9428                  4              2020                          12   \n",
       "\n",
       "      document_create_date.1_month  document_create_date.1_year  \\\n",
       "0                                4                         2020   \n",
       "1                                3                         2020   \n",
       "2                                2                         2020   \n",
       "3                                4                         2020   \n",
       "4                                4                         2020   \n",
       "...                            ...                          ...   \n",
       "9424                             5                         2020   \n",
       "9425                             3                         2020   \n",
       "9426                             4                         2020   \n",
       "9427                             3                         2020   \n",
       "9428                             4                         2020   \n",
       "\n",
       "      business_code_enc  cust_payment_terms_enc  document_type_enc  \\\n",
       "0                     1                      29                  0   \n",
       "1                     1                      28                  0   \n",
       "2                     1                      28                  0   \n",
       "3                     1                      28                  0   \n",
       "4                     1                      15                  0   \n",
       "...                 ...                     ...                ...   \n",
       "9424                  1                      15                  0   \n",
       "9425                  1                      15                  0   \n",
       "9426                  1                      15                  0   \n",
       "9427                  1                      43                  0   \n",
       "9428                  1                      15                  0   \n",
       "\n",
       "      Predicted_delay due_in_date  \n",
       "0                   1  2020-04-23  \n",
       "1                   1  2020-03-19  \n",
       "2                   1  2020-03-15  \n",
       "3                   1  2020-04-27  \n",
       "4                   1  2020-04-29  \n",
       "...               ...         ...  \n",
       "9424                1  2020-05-16  \n",
       "9425                1  2020-04-03  \n",
       "9426                1  2020-05-15  \n",
       "9427               -1  2020-03-18  \n",
       "9428                1  2020-04-27  \n",
       "\n",
       "[9429 rows x 18 columns]"
      ]
     },
     "execution_count": 123,
     "metadata": {},
     "output_type": "execute_result"
    }
   ],
   "source": [
    "Final"
   ]
  },
  {
   "cell_type": "code",
   "execution_count": 124,
   "id": "285ac929",
   "metadata": {},
   "outputs": [],
   "source": [
    "#creating the col predicted payment date by adding the due_in_date + predicted_delay\n",
    "Final[\"predicted_payment_date\"]=Final[\"due_in_date\"]+pd.to_timedelta(Final[\"Predicted_delay\"],unit='d')"
   ]
  },
  {
   "cell_type": "markdown",
   "id": "c80f63ed",
   "metadata": {},
   "source": [
    "# Bucketlist"
   ]
  },
  {
   "cell_type": "code",
   "execution_count": 125,
   "id": "a4e66bc8",
   "metadata": {},
   "outputs": [],
   "source": [
    "def bucketization(x):\n",
    "\n",
    "    if x<0:\n",
    "\n",
    "        return('(< 0) Days')\n",
    "\n",
    "    if x in range(0,16):\n",
    "\n",
    "        return('(0-15) Days')\n",
    "\n",
    "    elif x in range(16,31):\n",
    "\n",
    "        return('(16-30) Days')\n",
    "\n",
    "    elif x in range(31,45):\n",
    "\n",
    "        return('(31-45) Days')\n",
    "\n",
    "    elif x in range(45,60):\n",
    "\n",
    "        return('(45-60) Days')\n",
    "\n",
    "    else:\n",
    "\n",
    "        return('(> 60) Days')\n",
    "\n"
   ]
  },
  {
   "cell_type": "code",
   "execution_count": 126,
   "id": "b842db31",
   "metadata": {},
   "outputs": [
    {
     "data": {
      "text/plain": [
       "Index(['key_0', 'cust_number', 'buisness_year', 'total_open_amount',\n",
       "       'due_term', 'baseline_create_date_day', 'due_in_date_day',\n",
       "       'baseline_create_date_month', 'due_in_date_month', 'due_in_date_year',\n",
       "       'document_create_date.1_day', 'document_create_date.1_month',\n",
       "       'document_create_date.1_year', 'business_code_enc',\n",
       "       'cust_payment_terms_enc', 'document_type_enc', 'Predicted_delay',\n",
       "       'due_in_date', 'predicted_payment_date', 'BUCKET_DAYS', 'bucket_id'],\n",
       "      dtype='object')"
      ]
     },
     "execution_count": 126,
     "metadata": {},
     "output_type": "execute_result"
    }
   ],
   "source": [
    "data = Final.reset_index(drop=True)\n",
    "\n",
    "data['BUCKET_DAYS']= pd.Series([bucketization(x=Final['Predicted_delay'][i])  for i in range(len(data))])\n",
    "\n",
    "bucket_mapper = {'(< 0) Days':0,'(0-15) Days':1,'(16-30) Days':2,'(31-45) Days':4,'(45-60) Days':5,'(> 60) Days':6}\n",
    "\n",
    "data['bucket_id'] = data['BUCKET_DAYS'].map(bucket_mapper)\n",
    "\n",
    "data.columns"
   ]
  },
  {
   "cell_type": "code",
   "execution_count": 127,
   "id": "5d0e9ffb",
   "metadata": {},
   "outputs": [
    {
     "data": {
      "text/html": [
       "<div>\n",
       "<style scoped>\n",
       "    .dataframe tbody tr th:only-of-type {\n",
       "        vertical-align: middle;\n",
       "    }\n",
       "\n",
       "    .dataframe tbody tr th {\n",
       "        vertical-align: top;\n",
       "    }\n",
       "\n",
       "    .dataframe thead th {\n",
       "        text-align: right;\n",
       "    }\n",
       "</style>\n",
       "<table border=\"1\" class=\"dataframe\">\n",
       "  <thead>\n",
       "    <tr style=\"text-align: right;\">\n",
       "      <th></th>\n",
       "      <th>key_0</th>\n",
       "      <th>cust_number</th>\n",
       "      <th>buisness_year</th>\n",
       "      <th>total_open_amount</th>\n",
       "      <th>due_term</th>\n",
       "      <th>baseline_create_date_day</th>\n",
       "      <th>due_in_date_day</th>\n",
       "      <th>baseline_create_date_month</th>\n",
       "      <th>due_in_date_month</th>\n",
       "      <th>due_in_date_year</th>\n",
       "      <th>...</th>\n",
       "      <th>document_create_date.1_month</th>\n",
       "      <th>document_create_date.1_year</th>\n",
       "      <th>business_code_enc</th>\n",
       "      <th>cust_payment_terms_enc</th>\n",
       "      <th>document_type_enc</th>\n",
       "      <th>Predicted_delay</th>\n",
       "      <th>due_in_date</th>\n",
       "      <th>predicted_payment_date</th>\n",
       "      <th>BUCKET_DAYS</th>\n",
       "      <th>bucket_id</th>\n",
       "    </tr>\n",
       "  </thead>\n",
       "  <tbody>\n",
       "    <tr>\n",
       "      <th>0</th>\n",
       "      <td>0</td>\n",
       "      <td>200803720</td>\n",
       "      <td>2020</td>\n",
       "      <td>9755.78</td>\n",
       "      <td>7</td>\n",
       "      <td>16</td>\n",
       "      <td>23</td>\n",
       "      <td>4</td>\n",
       "      <td>4</td>\n",
       "      <td>2020</td>\n",
       "      <td>...</td>\n",
       "      <td>4</td>\n",
       "      <td>2020</td>\n",
       "      <td>1</td>\n",
       "      <td>29</td>\n",
       "      <td>0</td>\n",
       "      <td>1</td>\n",
       "      <td>2020-04-23</td>\n",
       "      <td>2020-04-24</td>\n",
       "      <td>(0-15) Days</td>\n",
       "      <td>1</td>\n",
       "    </tr>\n",
       "    <tr>\n",
       "      <th>1</th>\n",
       "      <td>1</td>\n",
       "      <td>200769623</td>\n",
       "      <td>2020</td>\n",
       "      <td>13505.14</td>\n",
       "      <td>15</td>\n",
       "      <td>4</td>\n",
       "      <td>19</td>\n",
       "      <td>3</td>\n",
       "      <td>3</td>\n",
       "      <td>2020</td>\n",
       "      <td>...</td>\n",
       "      <td>3</td>\n",
       "      <td>2020</td>\n",
       "      <td>1</td>\n",
       "      <td>28</td>\n",
       "      <td>0</td>\n",
       "      <td>1</td>\n",
       "      <td>2020-03-19</td>\n",
       "      <td>2020-03-20</td>\n",
       "      <td>(0-15) Days</td>\n",
       "      <td>1</td>\n",
       "    </tr>\n",
       "    <tr>\n",
       "      <th>2</th>\n",
       "      <td>2</td>\n",
       "      <td>200769623</td>\n",
       "      <td>2020</td>\n",
       "      <td>5496.44</td>\n",
       "      <td>15</td>\n",
       "      <td>29</td>\n",
       "      <td>15</td>\n",
       "      <td>2</td>\n",
       "      <td>3</td>\n",
       "      <td>2020</td>\n",
       "      <td>...</td>\n",
       "      <td>2</td>\n",
       "      <td>2020</td>\n",
       "      <td>1</td>\n",
       "      <td>28</td>\n",
       "      <td>0</td>\n",
       "      <td>1</td>\n",
       "      <td>2020-03-15</td>\n",
       "      <td>2020-03-16</td>\n",
       "      <td>(0-15) Days</td>\n",
       "      <td>1</td>\n",
       "    </tr>\n",
       "    <tr>\n",
       "      <th>3</th>\n",
       "      <td>3</td>\n",
       "      <td>200769623</td>\n",
       "      <td>2020</td>\n",
       "      <td>71674.10</td>\n",
       "      <td>15</td>\n",
       "      <td>12</td>\n",
       "      <td>27</td>\n",
       "      <td>4</td>\n",
       "      <td>4</td>\n",
       "      <td>2020</td>\n",
       "      <td>...</td>\n",
       "      <td>4</td>\n",
       "      <td>2020</td>\n",
       "      <td>1</td>\n",
       "      <td>28</td>\n",
       "      <td>0</td>\n",
       "      <td>1</td>\n",
       "      <td>2020-04-27</td>\n",
       "      <td>2020-04-28</td>\n",
       "      <td>(0-15) Days</td>\n",
       "      <td>1</td>\n",
       "    </tr>\n",
       "    <tr>\n",
       "      <th>4</th>\n",
       "      <td>4</td>\n",
       "      <td>200780383</td>\n",
       "      <td>2020</td>\n",
       "      <td>20276.74</td>\n",
       "      <td>15</td>\n",
       "      <td>14</td>\n",
       "      <td>29</td>\n",
       "      <td>4</td>\n",
       "      <td>4</td>\n",
       "      <td>2020</td>\n",
       "      <td>...</td>\n",
       "      <td>4</td>\n",
       "      <td>2020</td>\n",
       "      <td>1</td>\n",
       "      <td>15</td>\n",
       "      <td>0</td>\n",
       "      <td>1</td>\n",
       "      <td>2020-04-29</td>\n",
       "      <td>2020-04-30</td>\n",
       "      <td>(0-15) Days</td>\n",
       "      <td>1</td>\n",
       "    </tr>\n",
       "    <tr>\n",
       "      <th>...</th>\n",
       "      <td>...</td>\n",
       "      <td>...</td>\n",
       "      <td>...</td>\n",
       "      <td>...</td>\n",
       "      <td>...</td>\n",
       "      <td>...</td>\n",
       "      <td>...</td>\n",
       "      <td>...</td>\n",
       "      <td>...</td>\n",
       "      <td>...</td>\n",
       "      <td>...</td>\n",
       "      <td>...</td>\n",
       "      <td>...</td>\n",
       "      <td>...</td>\n",
       "      <td>...</td>\n",
       "      <td>...</td>\n",
       "      <td>...</td>\n",
       "      <td>...</td>\n",
       "      <td>...</td>\n",
       "      <td>...</td>\n",
       "      <td>...</td>\n",
       "    </tr>\n",
       "    <tr>\n",
       "      <th>9424</th>\n",
       "      <td>9424</td>\n",
       "      <td>200418007</td>\n",
       "      <td>2020</td>\n",
       "      <td>20.40</td>\n",
       "      <td>15</td>\n",
       "      <td>1</td>\n",
       "      <td>16</td>\n",
       "      <td>5</td>\n",
       "      <td>5</td>\n",
       "      <td>2020</td>\n",
       "      <td>...</td>\n",
       "      <td>5</td>\n",
       "      <td>2020</td>\n",
       "      <td>1</td>\n",
       "      <td>15</td>\n",
       "      <td>0</td>\n",
       "      <td>1</td>\n",
       "      <td>2020-05-16</td>\n",
       "      <td>2020-05-17</td>\n",
       "      <td>(0-15) Days</td>\n",
       "      <td>1</td>\n",
       "    </tr>\n",
       "    <tr>\n",
       "      <th>9425</th>\n",
       "      <td>9425</td>\n",
       "      <td>200777735</td>\n",
       "      <td>2020</td>\n",
       "      <td>104647.12</td>\n",
       "      <td>15</td>\n",
       "      <td>19</td>\n",
       "      <td>3</td>\n",
       "      <td>3</td>\n",
       "      <td>4</td>\n",
       "      <td>2020</td>\n",
       "      <td>...</td>\n",
       "      <td>3</td>\n",
       "      <td>2020</td>\n",
       "      <td>1</td>\n",
       "      <td>15</td>\n",
       "      <td>0</td>\n",
       "      <td>1</td>\n",
       "      <td>2020-04-03</td>\n",
       "      <td>2020-04-04</td>\n",
       "      <td>(0-15) Days</td>\n",
       "      <td>1</td>\n",
       "    </tr>\n",
       "    <tr>\n",
       "      <th>9426</th>\n",
       "      <td>9426</td>\n",
       "      <td>200418007</td>\n",
       "      <td>2020</td>\n",
       "      <td>2084.16</td>\n",
       "      <td>15</td>\n",
       "      <td>30</td>\n",
       "      <td>15</td>\n",
       "      <td>4</td>\n",
       "      <td>5</td>\n",
       "      <td>2020</td>\n",
       "      <td>...</td>\n",
       "      <td>4</td>\n",
       "      <td>2020</td>\n",
       "      <td>1</td>\n",
       "      <td>15</td>\n",
       "      <td>0</td>\n",
       "      <td>1</td>\n",
       "      <td>2020-05-15</td>\n",
       "      <td>2020-05-16</td>\n",
       "      <td>(0-15) Days</td>\n",
       "      <td>1</td>\n",
       "    </tr>\n",
       "    <tr>\n",
       "      <th>9427</th>\n",
       "      <td>9427</td>\n",
       "      <td>200936373</td>\n",
       "      <td>2020</td>\n",
       "      <td>15.22</td>\n",
       "      <td>15</td>\n",
       "      <td>3</td>\n",
       "      <td>18</td>\n",
       "      <td>3</td>\n",
       "      <td>3</td>\n",
       "      <td>2020</td>\n",
       "      <td>...</td>\n",
       "      <td>3</td>\n",
       "      <td>2020</td>\n",
       "      <td>1</td>\n",
       "      <td>43</td>\n",
       "      <td>0</td>\n",
       "      <td>-1</td>\n",
       "      <td>2020-03-18</td>\n",
       "      <td>2020-03-17</td>\n",
       "      <td>(&lt; 0) Days</td>\n",
       "      <td>0</td>\n",
       "    </tr>\n",
       "    <tr>\n",
       "      <th>9428</th>\n",
       "      <td>9428</td>\n",
       "      <td>200148860</td>\n",
       "      <td>2020</td>\n",
       "      <td>91560.26</td>\n",
       "      <td>15</td>\n",
       "      <td>12</td>\n",
       "      <td>27</td>\n",
       "      <td>4</td>\n",
       "      <td>4</td>\n",
       "      <td>2020</td>\n",
       "      <td>...</td>\n",
       "      <td>4</td>\n",
       "      <td>2020</td>\n",
       "      <td>1</td>\n",
       "      <td>15</td>\n",
       "      <td>0</td>\n",
       "      <td>1</td>\n",
       "      <td>2020-04-27</td>\n",
       "      <td>2020-04-28</td>\n",
       "      <td>(0-15) Days</td>\n",
       "      <td>1</td>\n",
       "    </tr>\n",
       "  </tbody>\n",
       "</table>\n",
       "<p>9429 rows × 21 columns</p>\n",
       "</div>"
      ],
      "text/plain": [
       "      key_0  cust_number  buisness_year  total_open_amount  due_term  \\\n",
       "0         0    200803720           2020            9755.78         7   \n",
       "1         1    200769623           2020           13505.14        15   \n",
       "2         2    200769623           2020            5496.44        15   \n",
       "3         3    200769623           2020           71674.10        15   \n",
       "4         4    200780383           2020           20276.74        15   \n",
       "...     ...          ...            ...                ...       ...   \n",
       "9424   9424    200418007           2020              20.40        15   \n",
       "9425   9425    200777735           2020          104647.12        15   \n",
       "9426   9426    200418007           2020            2084.16        15   \n",
       "9427   9427    200936373           2020              15.22        15   \n",
       "9428   9428    200148860           2020           91560.26        15   \n",
       "\n",
       "      baseline_create_date_day  due_in_date_day  baseline_create_date_month  \\\n",
       "0                           16               23                           4   \n",
       "1                            4               19                           3   \n",
       "2                           29               15                           2   \n",
       "3                           12               27                           4   \n",
       "4                           14               29                           4   \n",
       "...                        ...              ...                         ...   \n",
       "9424                         1               16                           5   \n",
       "9425                        19                3                           3   \n",
       "9426                        30               15                           4   \n",
       "9427                         3               18                           3   \n",
       "9428                        12               27                           4   \n",
       "\n",
       "      due_in_date_month  due_in_date_year  ...  document_create_date.1_month  \\\n",
       "0                     4              2020  ...                             4   \n",
       "1                     3              2020  ...                             3   \n",
       "2                     3              2020  ...                             2   \n",
       "3                     4              2020  ...                             4   \n",
       "4                     4              2020  ...                             4   \n",
       "...                 ...               ...  ...                           ...   \n",
       "9424                  5              2020  ...                             5   \n",
       "9425                  4              2020  ...                             3   \n",
       "9426                  5              2020  ...                             4   \n",
       "9427                  3              2020  ...                             3   \n",
       "9428                  4              2020  ...                             4   \n",
       "\n",
       "      document_create_date.1_year  business_code_enc  cust_payment_terms_enc  \\\n",
       "0                            2020                  1                      29   \n",
       "1                            2020                  1                      28   \n",
       "2                            2020                  1                      28   \n",
       "3                            2020                  1                      28   \n",
       "4                            2020                  1                      15   \n",
       "...                           ...                ...                     ...   \n",
       "9424                         2020                  1                      15   \n",
       "9425                         2020                  1                      15   \n",
       "9426                         2020                  1                      15   \n",
       "9427                         2020                  1                      43   \n",
       "9428                         2020                  1                      15   \n",
       "\n",
       "      document_type_enc  Predicted_delay  due_in_date predicted_payment_date  \\\n",
       "0                     0                1   2020-04-23             2020-04-24   \n",
       "1                     0                1   2020-03-19             2020-03-20   \n",
       "2                     0                1   2020-03-15             2020-03-16   \n",
       "3                     0                1   2020-04-27             2020-04-28   \n",
       "4                     0                1   2020-04-29             2020-04-30   \n",
       "...                 ...              ...          ...                    ...   \n",
       "9424                  0                1   2020-05-16             2020-05-17   \n",
       "9425                  0                1   2020-04-03             2020-04-04   \n",
       "9426                  0                1   2020-05-15             2020-05-16   \n",
       "9427                  0               -1   2020-03-18             2020-03-17   \n",
       "9428                  0                1   2020-04-27             2020-04-28   \n",
       "\n",
       "      BUCKET_DAYS bucket_id  \n",
       "0     (0-15) Days         1  \n",
       "1     (0-15) Days         1  \n",
       "2     (0-15) Days         1  \n",
       "3     (0-15) Days         1  \n",
       "4     (0-15) Days         1  \n",
       "...           ...       ...  \n",
       "9424  (0-15) Days         1  \n",
       "9425  (0-15) Days         1  \n",
       "9426  (0-15) Days         1  \n",
       "9427   (< 0) Days         0  \n",
       "9428  (0-15) Days         1  \n",
       "\n",
       "[9429 rows x 21 columns]"
      ]
     },
     "execution_count": 127,
     "metadata": {},
     "output_type": "execute_result"
    }
   ],
   "source": [
    "data"
   ]
  },
  {
   "cell_type": "code",
   "execution_count": 128,
   "id": "b357d5e5",
   "metadata": {},
   "outputs": [
    {
     "data": {
      "text/plain": [
       "1    9048\n",
       "0     380\n",
       "4       1\n",
       "Name: bucket_id, dtype: int64"
      ]
     },
     "execution_count": 128,
     "metadata": {},
     "output_type": "execute_result"
    }
   ],
   "source": [
    "data.bucket_id.value_counts()"
   ]
  },
  {
   "cell_type": "code",
   "execution_count": null,
   "id": "0b300e03",
   "metadata": {},
   "outputs": [],
   "source": []
  }
 ],
 "metadata": {
  "kernelspec": {
   "display_name": "Python 3",
   "language": "python",
   "name": "python3"
  },
  "language_info": {
   "codemirror_mode": {
    "name": "ipython",
    "version": 3
   },
   "file_extension": ".py",
   "mimetype": "text/x-python",
   "name": "python",
   "nbconvert_exporter": "python",
   "pygments_lexer": "ipython3",
   "version": "3.7.9"
  }
 },
 "nbformat": 4,
 "nbformat_minor": 5
}
